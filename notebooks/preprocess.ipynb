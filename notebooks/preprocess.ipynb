{
 "cells": [
  {
   "cell_type": "code",
   "execution_count": 1,
   "id": "b6182d61-21bf-43cc-b3ad-4450802cbaa4",
   "metadata": {},
   "outputs": [
    {
     "name": "stdout",
     "output_type": "stream",
     "text": [
      "D:\\SoftUni\\Machine Learning\\mushrooms project\n"
     ]
    }
   ],
   "source": [
    "%cd .."
   ]
  },
  {
   "cell_type": "code",
   "execution_count": 2,
   "id": "5896b633-ff1d-4135-8a85-e036ad945431",
   "metadata": {},
   "outputs": [],
   "source": [
    "import pandas as pd\n",
    "pd.set_option('display.max_columns', None)\n",
    "import matplotlib.pyplot as plt\n",
    "import seaborn as sns\n",
    "\n",
    "import numpy as np\n",
    "\n",
    "from sklearn.model_selection import train_test_split, StratifiedKFold, cross_val_score\n",
    "from sklearn.compose import ColumnTransformer\n",
    "from sklearn.pipeline import Pipeline\n",
    "from sklearn.preprocessing import OneHotEncoder\n",
    "from sklearn.linear_model import LogisticRegression\n",
    "from sklearn.naive_bayes import CategoricalNB\n",
    "from sklearn.ensemble import RandomForestClassifier\n",
    "from sklearn.svm import SVC\n",
    "from sklearn.metrics import make_scorer, accuracy_score, recall_score, roc_auc_score, roc_curve, confusion_matrix, classification_report\n",
    "from sklearn.model_selection import cross_validate\n",
    "\n",
    "from hyperopt import fmin, tpe, hp, Trials, STATUS_OK\n",
    "\n",
    "from src import functions"
   ]
  },
  {
   "cell_type": "code",
   "execution_count": 3,
   "id": "5909c2c1-a790-42a8-9312-89b6ecb56bff",
   "metadata": {},
   "outputs": [],
   "source": [
    "mushroom_data = pd.read_csv('data/cleaned_dataset.csv')"
   ]
  },
  {
   "cell_type": "code",
   "execution_count": 4,
   "id": "fe98dbb2-26cb-4bd3-9ca2-c552bfb1f216",
   "metadata": {},
   "outputs": [
    {
     "data": {
      "text/html": [
       "<div>\n",
       "<style scoped>\n",
       "    .dataframe tbody tr th:only-of-type {\n",
       "        vertical-align: middle;\n",
       "    }\n",
       "\n",
       "    .dataframe tbody tr th {\n",
       "        vertical-align: top;\n",
       "    }\n",
       "\n",
       "    .dataframe thead th {\n",
       "        text-align: right;\n",
       "    }\n",
       "</style>\n",
       "<table border=\"1\" class=\"dataframe\">\n",
       "  <thead>\n",
       "    <tr style=\"text-align: right;\">\n",
       "      <th></th>\n",
       "      <th>label</th>\n",
       "      <th>cap_shape</th>\n",
       "      <th>cap_surface</th>\n",
       "      <th>cap_color</th>\n",
       "      <th>bruises</th>\n",
       "      <th>odor</th>\n",
       "      <th>gill_attachment</th>\n",
       "      <th>gill_spacing</th>\n",
       "      <th>gill_size</th>\n",
       "      <th>gill_color</th>\n",
       "      <th>stalk_shape</th>\n",
       "      <th>stalk_root</th>\n",
       "      <th>stalk_surface_above_ring</th>\n",
       "      <th>stalk_surface_below_ring</th>\n",
       "      <th>stalk_color_above_ring</th>\n",
       "      <th>stalk_color_below_ring</th>\n",
       "      <th>veil_color</th>\n",
       "      <th>ring_number</th>\n",
       "      <th>ring_type</th>\n",
       "      <th>spore_print_color</th>\n",
       "      <th>population</th>\n",
       "      <th>habitat</th>\n",
       "    </tr>\n",
       "  </thead>\n",
       "  <tbody>\n",
       "    <tr>\n",
       "      <th>0</th>\n",
       "      <td>p</td>\n",
       "      <td>x</td>\n",
       "      <td>s</td>\n",
       "      <td>n</td>\n",
       "      <td>t</td>\n",
       "      <td>p</td>\n",
       "      <td>f</td>\n",
       "      <td>c</td>\n",
       "      <td>n</td>\n",
       "      <td>k</td>\n",
       "      <td>e</td>\n",
       "      <td>e</td>\n",
       "      <td>s</td>\n",
       "      <td>s</td>\n",
       "      <td>w</td>\n",
       "      <td>w</td>\n",
       "      <td>w</td>\n",
       "      <td>o</td>\n",
       "      <td>p</td>\n",
       "      <td>k</td>\n",
       "      <td>s</td>\n",
       "      <td>u</td>\n",
       "    </tr>\n",
       "    <tr>\n",
       "      <th>1</th>\n",
       "      <td>e</td>\n",
       "      <td>x</td>\n",
       "      <td>s</td>\n",
       "      <td>y</td>\n",
       "      <td>t</td>\n",
       "      <td>a</td>\n",
       "      <td>f</td>\n",
       "      <td>c</td>\n",
       "      <td>b</td>\n",
       "      <td>k</td>\n",
       "      <td>e</td>\n",
       "      <td>c</td>\n",
       "      <td>s</td>\n",
       "      <td>s</td>\n",
       "      <td>w</td>\n",
       "      <td>w</td>\n",
       "      <td>w</td>\n",
       "      <td>o</td>\n",
       "      <td>p</td>\n",
       "      <td>n</td>\n",
       "      <td>n</td>\n",
       "      <td>g</td>\n",
       "    </tr>\n",
       "    <tr>\n",
       "      <th>2</th>\n",
       "      <td>e</td>\n",
       "      <td>b</td>\n",
       "      <td>s</td>\n",
       "      <td>w</td>\n",
       "      <td>t</td>\n",
       "      <td>l</td>\n",
       "      <td>f</td>\n",
       "      <td>c</td>\n",
       "      <td>b</td>\n",
       "      <td>n</td>\n",
       "      <td>e</td>\n",
       "      <td>c</td>\n",
       "      <td>s</td>\n",
       "      <td>s</td>\n",
       "      <td>w</td>\n",
       "      <td>w</td>\n",
       "      <td>w</td>\n",
       "      <td>o</td>\n",
       "      <td>p</td>\n",
       "      <td>n</td>\n",
       "      <td>n</td>\n",
       "      <td>m</td>\n",
       "    </tr>\n",
       "    <tr>\n",
       "      <th>3</th>\n",
       "      <td>p</td>\n",
       "      <td>x</td>\n",
       "      <td>y</td>\n",
       "      <td>w</td>\n",
       "      <td>t</td>\n",
       "      <td>p</td>\n",
       "      <td>f</td>\n",
       "      <td>c</td>\n",
       "      <td>n</td>\n",
       "      <td>n</td>\n",
       "      <td>e</td>\n",
       "      <td>e</td>\n",
       "      <td>s</td>\n",
       "      <td>s</td>\n",
       "      <td>w</td>\n",
       "      <td>w</td>\n",
       "      <td>w</td>\n",
       "      <td>o</td>\n",
       "      <td>p</td>\n",
       "      <td>k</td>\n",
       "      <td>s</td>\n",
       "      <td>u</td>\n",
       "    </tr>\n",
       "    <tr>\n",
       "      <th>4</th>\n",
       "      <td>e</td>\n",
       "      <td>x</td>\n",
       "      <td>s</td>\n",
       "      <td>g</td>\n",
       "      <td>f</td>\n",
       "      <td>n</td>\n",
       "      <td>f</td>\n",
       "      <td>w</td>\n",
       "      <td>b</td>\n",
       "      <td>k</td>\n",
       "      <td>t</td>\n",
       "      <td>e</td>\n",
       "      <td>s</td>\n",
       "      <td>s</td>\n",
       "      <td>w</td>\n",
       "      <td>w</td>\n",
       "      <td>w</td>\n",
       "      <td>o</td>\n",
       "      <td>e</td>\n",
       "      <td>n</td>\n",
       "      <td>a</td>\n",
       "      <td>g</td>\n",
       "    </tr>\n",
       "    <tr>\n",
       "      <th>...</th>\n",
       "      <td>...</td>\n",
       "      <td>...</td>\n",
       "      <td>...</td>\n",
       "      <td>...</td>\n",
       "      <td>...</td>\n",
       "      <td>...</td>\n",
       "      <td>...</td>\n",
       "      <td>...</td>\n",
       "      <td>...</td>\n",
       "      <td>...</td>\n",
       "      <td>...</td>\n",
       "      <td>...</td>\n",
       "      <td>...</td>\n",
       "      <td>...</td>\n",
       "      <td>...</td>\n",
       "      <td>...</td>\n",
       "      <td>...</td>\n",
       "      <td>...</td>\n",
       "      <td>...</td>\n",
       "      <td>...</td>\n",
       "      <td>...</td>\n",
       "      <td>...</td>\n",
       "    </tr>\n",
       "    <tr>\n",
       "      <th>8119</th>\n",
       "      <td>e</td>\n",
       "      <td>k</td>\n",
       "      <td>s</td>\n",
       "      <td>n</td>\n",
       "      <td>f</td>\n",
       "      <td>n</td>\n",
       "      <td>a</td>\n",
       "      <td>c</td>\n",
       "      <td>b</td>\n",
       "      <td>y</td>\n",
       "      <td>e</td>\n",
       "      <td>?</td>\n",
       "      <td>s</td>\n",
       "      <td>s</td>\n",
       "      <td>o</td>\n",
       "      <td>o</td>\n",
       "      <td>o</td>\n",
       "      <td>o</td>\n",
       "      <td>p</td>\n",
       "      <td>b</td>\n",
       "      <td>c</td>\n",
       "      <td>l</td>\n",
       "    </tr>\n",
       "    <tr>\n",
       "      <th>8120</th>\n",
       "      <td>e</td>\n",
       "      <td>x</td>\n",
       "      <td>s</td>\n",
       "      <td>n</td>\n",
       "      <td>f</td>\n",
       "      <td>n</td>\n",
       "      <td>a</td>\n",
       "      <td>c</td>\n",
       "      <td>b</td>\n",
       "      <td>y</td>\n",
       "      <td>e</td>\n",
       "      <td>?</td>\n",
       "      <td>s</td>\n",
       "      <td>s</td>\n",
       "      <td>o</td>\n",
       "      <td>o</td>\n",
       "      <td>n</td>\n",
       "      <td>o</td>\n",
       "      <td>p</td>\n",
       "      <td>b</td>\n",
       "      <td>v</td>\n",
       "      <td>l</td>\n",
       "    </tr>\n",
       "    <tr>\n",
       "      <th>8121</th>\n",
       "      <td>e</td>\n",
       "      <td>f</td>\n",
       "      <td>s</td>\n",
       "      <td>n</td>\n",
       "      <td>f</td>\n",
       "      <td>n</td>\n",
       "      <td>a</td>\n",
       "      <td>c</td>\n",
       "      <td>b</td>\n",
       "      <td>n</td>\n",
       "      <td>e</td>\n",
       "      <td>?</td>\n",
       "      <td>s</td>\n",
       "      <td>s</td>\n",
       "      <td>o</td>\n",
       "      <td>o</td>\n",
       "      <td>o</td>\n",
       "      <td>o</td>\n",
       "      <td>p</td>\n",
       "      <td>b</td>\n",
       "      <td>c</td>\n",
       "      <td>l</td>\n",
       "    </tr>\n",
       "    <tr>\n",
       "      <th>8122</th>\n",
       "      <td>p</td>\n",
       "      <td>k</td>\n",
       "      <td>y</td>\n",
       "      <td>n</td>\n",
       "      <td>f</td>\n",
       "      <td>y</td>\n",
       "      <td>f</td>\n",
       "      <td>c</td>\n",
       "      <td>n</td>\n",
       "      <td>b</td>\n",
       "      <td>t</td>\n",
       "      <td>?</td>\n",
       "      <td>s</td>\n",
       "      <td>k</td>\n",
       "      <td>w</td>\n",
       "      <td>w</td>\n",
       "      <td>w</td>\n",
       "      <td>o</td>\n",
       "      <td>e</td>\n",
       "      <td>w</td>\n",
       "      <td>v</td>\n",
       "      <td>l</td>\n",
       "    </tr>\n",
       "    <tr>\n",
       "      <th>8123</th>\n",
       "      <td>e</td>\n",
       "      <td>x</td>\n",
       "      <td>s</td>\n",
       "      <td>n</td>\n",
       "      <td>f</td>\n",
       "      <td>n</td>\n",
       "      <td>a</td>\n",
       "      <td>c</td>\n",
       "      <td>b</td>\n",
       "      <td>y</td>\n",
       "      <td>e</td>\n",
       "      <td>?</td>\n",
       "      <td>s</td>\n",
       "      <td>s</td>\n",
       "      <td>o</td>\n",
       "      <td>o</td>\n",
       "      <td>o</td>\n",
       "      <td>o</td>\n",
       "      <td>p</td>\n",
       "      <td>o</td>\n",
       "      <td>c</td>\n",
       "      <td>l</td>\n",
       "    </tr>\n",
       "  </tbody>\n",
       "</table>\n",
       "<p>8124 rows × 22 columns</p>\n",
       "</div>"
      ],
      "text/plain": [
       "     label cap_shape cap_surface cap_color bruises odor gill_attachment  \\\n",
       "0        p         x           s         n       t    p               f   \n",
       "1        e         x           s         y       t    a               f   \n",
       "2        e         b           s         w       t    l               f   \n",
       "3        p         x           y         w       t    p               f   \n",
       "4        e         x           s         g       f    n               f   \n",
       "...    ...       ...         ...       ...     ...  ...             ...   \n",
       "8119     e         k           s         n       f    n               a   \n",
       "8120     e         x           s         n       f    n               a   \n",
       "8121     e         f           s         n       f    n               a   \n",
       "8122     p         k           y         n       f    y               f   \n",
       "8123     e         x           s         n       f    n               a   \n",
       "\n",
       "     gill_spacing gill_size gill_color stalk_shape stalk_root  \\\n",
       "0               c         n          k           e          e   \n",
       "1               c         b          k           e          c   \n",
       "2               c         b          n           e          c   \n",
       "3               c         n          n           e          e   \n",
       "4               w         b          k           t          e   \n",
       "...           ...       ...        ...         ...        ...   \n",
       "8119            c         b          y           e          ?   \n",
       "8120            c         b          y           e          ?   \n",
       "8121            c         b          n           e          ?   \n",
       "8122            c         n          b           t          ?   \n",
       "8123            c         b          y           e          ?   \n",
       "\n",
       "     stalk_surface_above_ring stalk_surface_below_ring stalk_color_above_ring  \\\n",
       "0                           s                        s                      w   \n",
       "1                           s                        s                      w   \n",
       "2                           s                        s                      w   \n",
       "3                           s                        s                      w   \n",
       "4                           s                        s                      w   \n",
       "...                       ...                      ...                    ...   \n",
       "8119                        s                        s                      o   \n",
       "8120                        s                        s                      o   \n",
       "8121                        s                        s                      o   \n",
       "8122                        s                        k                      w   \n",
       "8123                        s                        s                      o   \n",
       "\n",
       "     stalk_color_below_ring veil_color ring_number ring_type  \\\n",
       "0                         w          w           o         p   \n",
       "1                         w          w           o         p   \n",
       "2                         w          w           o         p   \n",
       "3                         w          w           o         p   \n",
       "4                         w          w           o         e   \n",
       "...                     ...        ...         ...       ...   \n",
       "8119                      o          o           o         p   \n",
       "8120                      o          n           o         p   \n",
       "8121                      o          o           o         p   \n",
       "8122                      w          w           o         e   \n",
       "8123                      o          o           o         p   \n",
       "\n",
       "     spore_print_color population habitat  \n",
       "0                    k          s       u  \n",
       "1                    n          n       g  \n",
       "2                    n          n       m  \n",
       "3                    k          s       u  \n",
       "4                    n          a       g  \n",
       "...                ...        ...     ...  \n",
       "8119                 b          c       l  \n",
       "8120                 b          v       l  \n",
       "8121                 b          c       l  \n",
       "8122                 w          v       l  \n",
       "8123                 o          c       l  \n",
       "\n",
       "[8124 rows x 22 columns]"
      ]
     },
     "execution_count": 4,
     "metadata": {},
     "output_type": "execute_result"
    }
   ],
   "source": [
    "mushroom_data"
   ]
  },
  {
   "cell_type": "markdown",
   "id": "c18c0a2c-1289-43e4-9fdd-e90d82f69a00",
   "metadata": {},
   "source": [
    "### Spliting the dataset\n",
    "Sklearn \"train_test_split\" method is used to split the data to train and test subsets. It is shuffled before the split and is stratified by the target variable to preserve it's classes proportion. Accordingly to the size of the dataset and the presence of some rare categories, a 75 / 25 split us used to ensure a decent size and quality of the testing set."
   ]
  },
  {
   "cell_type": "code",
   "execution_count": 5,
   "id": "34fee09f-1f9f-49e9-9f34-3e7b399c07b7",
   "metadata": {},
   "outputs": [],
   "source": [
    "RANDOM_SEED = 11"
   ]
  },
  {
   "cell_type": "code",
   "execution_count": 6,
   "id": "844780c3-c8fb-4136-85d9-074f351e12bd",
   "metadata": {},
   "outputs": [],
   "source": [
    "mushroom_attributes = mushroom_data.drop(columns = ['label'])"
   ]
  },
  {
   "cell_type": "code",
   "execution_count": 7,
   "id": "bbd68233-bedb-49d6-ba13-ddd9cfcef144",
   "metadata": {},
   "outputs": [],
   "source": [
    "mushroom_target = mushroom_data['label']"
   ]
  },
  {
   "cell_type": "code",
   "execution_count": 8,
   "id": "cfea50b7-b876-41d2-b601-32ac4e9a99b3",
   "metadata": {},
   "outputs": [],
   "source": [
    "mushroom_attr_train, mushroom_attr_test, mushroom_target_train, mushroom_target_test = train_test_split(\n",
    "    mushroom_attributes, mushroom_target, test_size = 0.25, random_state = RANDOM_SEED, stratify = mushroom_target\n",
    ")"
   ]
  },
  {
   "cell_type": "code",
   "execution_count": 9,
   "id": "d9eb27b0-1365-46fe-879e-ffa65969870c",
   "metadata": {},
   "outputs": [
    {
     "data": {
      "text/plain": [
       "((6093, 21), (2031, 21), (6093,), (2031,))"
      ]
     },
     "execution_count": 9,
     "metadata": {},
     "output_type": "execute_result"
    }
   ],
   "source": [
    "mushroom_attr_train.shape, mushroom_attr_test.shape, mushroom_target_train.shape, mushroom_target_test.shape"
   ]
  },
  {
   "cell_type": "markdown",
   "id": "135fe1aa-bdde-467f-bdec-11843c42b239",
   "metadata": {},
   "source": [
    "The proportions of target variable have remained the same after the split:"
   ]
  },
  {
   "cell_type": "code",
   "execution_count": 10,
   "id": "5e87573f-f93e-49bc-a6cd-e6962eac606a",
   "metadata": {},
   "outputs": [
    {
     "data": {
      "text/plain": [
       "label\n",
       "e    0.517971\n",
       "p    0.482029\n",
       "Name: proportion, dtype: float64"
      ]
     },
     "execution_count": 10,
     "metadata": {},
     "output_type": "execute_result"
    }
   ],
   "source": [
    "mushroom_data['label'].value_counts(normalize = True)"
   ]
  },
  {
   "cell_type": "code",
   "execution_count": 11,
   "id": "ca9818bd-4575-4159-b2a6-978cfbdb067c",
   "metadata": {},
   "outputs": [
    {
     "data": {
      "text/plain": [
       "label\n",
       "e    0.517971\n",
       "p    0.482029\n",
       "Name: proportion, dtype: float64"
      ]
     },
     "execution_count": 11,
     "metadata": {},
     "output_type": "execute_result"
    }
   ],
   "source": [
    "mushroom_target_train.value_counts(normalize = True)"
   ]
  },
  {
   "cell_type": "code",
   "execution_count": 12,
   "id": "e95bb1e7-50db-4d04-8650-159fe5cae4c5",
   "metadata": {},
   "outputs": [
    {
     "data": {
      "text/plain": [
       "label\n",
       "e    0.517971\n",
       "p    0.482029\n",
       "Name: proportion, dtype: float64"
      ]
     },
     "execution_count": 12,
     "metadata": {},
     "output_type": "execute_result"
    }
   ],
   "source": [
    "mushroom_target_test.value_counts(normalize = True)"
   ]
  },
  {
   "cell_type": "markdown",
   "id": "1819505d-ed9e-4c85-9bfa-98062e4ea542",
   "metadata": {},
   "source": [
    "### Encoding\n",
    "All feature's values have to be encoded from \"str\" to numerical data type as needed for proper work with ML algorithms. I will use one - hot encoding since the categories within the features are not ranked or hierarchical, thus label encoding would not be appropriate. Because the presence of some rare categhories, handle_unknown = \"ignore\" and a list which contains all possible categories are provided as arguments to the encoder."
   ]
  },
  {
   "cell_type": "code",
   "execution_count": 13,
   "id": "11af2382-0007-4df4-88e0-68b305ae6e8d",
   "metadata": {},
   "outputs": [],
   "source": [
    "mushroom_columns = mushroom_attr_train.columns.values"
   ]
  },
  {
   "cell_type": "code",
   "execution_count": 14,
   "id": "83c4ab5a-cf93-4eca-bf5c-413c7cc076e3",
   "metadata": {},
   "outputs": [],
   "source": [
    "mushroom_categories = [mushroom_attr_train[col].unique() for col in mushroom_columns]"
   ]
  },
  {
   "cell_type": "code",
   "execution_count": 15,
   "id": "2b24f1e1-964c-479e-8802-dc12050c0b3e",
   "metadata": {},
   "outputs": [],
   "source": [
    "attr_encoder = ColumnTransformer(\n",
    "    transformers = [\n",
    "        ('one-hot', OneHotEncoder(handle_unknown = 'ignore', categories = mushroom_categories), mushroom_columns)\n",
    "    ]\n",
    ")"
   ]
  },
  {
   "cell_type": "markdown",
   "id": "4b9926a3-b000-4a96-aaba-92f76e4eac23",
   "metadata": {},
   "source": [
    "### Algorithms\n",
    "\n",
    "Algorithm selection is based on the applied EDA, characteristics of the dataset and results of previous research. Even with simple algorithms, high values of evaluation metrics have been achieved previously. Indeed, the results of the data analysis showed that some of the features can be of great importance in determining the class of the target variable. At the other hand, the size of the dataset may be not big enough to complex algorithms like XGBoost which are prone to overfitting. Simple classification algorithm like Logistic Regression which can be used initially as a baseline. Applying Random Forest and SVC could rise the performance(w.r.t the evaluation metric) afterwards if needed. Coefficients of Logistic Regression and RF feature importances are usable  "
   ]
  },
  {
   "cell_type": "markdown",
   "id": "11640d9a-d839-42e0-acf2-ff1190e705e8",
   "metadata": {},
   "source": [
    "### Evaluation and hyperparameter tuning\n",
    "To assess the performance of the models is used stratified k - fold cross - validation technique. This approach is suitable because the dataset is relatively small and do not have enough obervations for separate validation set. For this reasos the training set is randomly divided into 5 folds, ensuring that every data point, including those with rare categories, is used in both training and validation.\n",
    "\n",
    "To distinguish the toxic mushrooms is of great importance. Labeling a poisonous mushroom as edible can be fatal in the real world. For this reasont I want to ensure that when the model predicts \"edible\" it is actually edible. The appropriate evaluation metric in this case is **recall**:\n",
    "\n",
    "$$ Recall = \\frac{TP}{TP + FN} $$\n",
    "\n",
    "It shows what part of all \"poisonous\" labeled mushrooms was retrieved by the model. I will use it as main evaluation metric to asses the performance of the classification models in the project.\n",
    "\n",
    "Hyperopt library is used for hyperparameter tuning. Negative recall is set as loss metric for optimization since the algorithm tries to minimize it. In addition, accuracy and area under the ROC metrics are observed. Appropriate search space and objective function is defined for each of the used algorithms."
   ]
  },
  {
   "cell_type": "code",
   "execution_count": 16,
   "id": "665017db-29f0-418f-9e13-bea3645418f3",
   "metadata": {},
   "outputs": [],
   "source": [
    "eval_metrics = {\n",
    "        'recall': make_scorer(recall_score, pos_label = 'p'),\n",
    "        'accuracy': make_scorer(accuracy_score),\n",
    "        'roc_auc': 'roc_auc'\n",
    "    }"
   ]
  },
  {
   "cell_type": "markdown",
   "id": "aa1ec167-2269-4151-b94a-62b0a073d211",
   "metadata": {},
   "source": [
    "### Logistic Regression"
   ]
  },
  {
   "cell_type": "markdown",
   "id": "25725f5a-234a-4350-851c-bc7317afcf55",
   "metadata": {},
   "source": [
    "#### Training"
   ]
  },
  {
   "cell_type": "code",
   "execution_count": 17,
   "id": "1f083e6a-78bf-4e7c-890a-60349e230d19",
   "metadata": {
    "jupyter": {
     "source_hidden": true
    }
   },
   "outputs": [],
   "source": [
    "# def logr_objective(params):\n",
    "#     pipeline = Pipeline(steps = [\n",
    "#         ('encode', attr_encoder),\n",
    "#         ('classifier', LogisticRegression(solver = 'liblinear', random_state = RANDOM_SEED))\n",
    "#     ])\n",
    "\n",
    "#     pipeline.set_params(\n",
    "#         classifier__C = params['C'],\n",
    "#         classifier__penalty = params['penalty']\n",
    "#     )\n",
    "\n",
    "#     skf = StratifiedKFold(n_splits = 5)\n",
    "    \n",
    "#     scores = cross_validate(pipeline, mushroom_attr_train, mushroom_target_train, cv = skf, scoring = eval_metrics)\n",
    "\n",
    "#     return {\n",
    "#         'loss': -np.mean(scores['test_recall']),\n",
    "#         'status': STATUS_OK,\n",
    "#         'other_metrics': {\n",
    "#             'mean_recall': np.mean(scores['test_recall']),\n",
    "#             'mean_accuracy': np.mean(scores['test_accuracy']),\n",
    "#             'mean_roc_auc': np.mean(scores['test_roc_auc'])\n",
    "#         }\n",
    "#     }"
   ]
  },
  {
   "cell_type": "markdown",
   "id": "1a7fdd68-06c1-4252-9ffa-58abd5d733c7",
   "metadata": {},
   "source": [
    "Logistic Regression algorithm are initialized with \"liblinear\" solver, taking into consideration the relatively small size of the dataset, and because of the support of both Lasso and Ridge regularization techniques.\n",
    "\n",
    "Two hyperparameters are included in the optimization search space. \"penalty\" with two possible values: l1 and l2, and regularization strength \"C\" which will be tuned between 0.001 and 100. "
   ]
  },
  {
   "cell_type": "code",
   "execution_count": 18,
   "id": "4e632a12-c16d-42fe-94ab-63430bfc91be",
   "metadata": {},
   "outputs": [],
   "source": [
    "logr_search_space = {\n",
    "    'penalty': hp.choice('penalty', ['l1', 'l2']),\n",
    "    'C': hp.loguniform('C', np.log(1e-3), np.log(1e2))\n",
    "}"
   ]
  },
  {
   "cell_type": "code",
   "execution_count": 19,
   "id": "ecd2f488-174a-4cb2-93ad-ef537099b311",
   "metadata": {},
   "outputs": [
    {
     "name": "stdout",
     "output_type": "stream",
     "text": [
      "100%|██████████████████████████████████████████████████████████████| 80/80 [00:53<00:00,  1.50trial/s, best loss: -1.0]\n"
     ]
    }
   ],
   "source": [
    "logr_trials = Trials()\n",
    "\n",
    "logr_fmin = fmin(\n",
    "    fn = lambda params: functions.hyperopt_objective(\n",
    "        params = params,\n",
    "        classifier = 'LogisticRegression', \n",
    "        attr_train = mushroom_attr_train,\n",
    "        target_train = mushroom_target_train,\n",
    "        eval_metrics = eval_metrics,\n",
    "        encoder = attr_encoder,\n",
    "        random_seed = RANDOM_SEED\n",
    "    ),\n",
    "    space = logr_search_space,\n",
    "    algo = tpe.suggest,\n",
    "    max_evals = 80,\n",
    "    trials = logr_trials,\n",
    "    rstate = np.random.default_rng(RANDOM_SEED)\n",
    ")"
   ]
  },
  {
   "cell_type": "code",
   "execution_count": 20,
   "id": "5462cd18-f282-4c73-9cdc-176a9df9bd9d",
   "metadata": {},
   "outputs": [
    {
     "data": {
      "text/plain": [
       "{'C': 68.29736138744246, 'penalty': 1}"
      ]
     },
     "execution_count": 20,
     "metadata": {},
     "output_type": "execute_result"
    }
   ],
   "source": [
    "logr_fmin"
   ]
  },
  {
   "cell_type": "markdown",
   "id": "f4c1e61b-7e95-4a67-aa56-4f57f14da8fc",
   "metadata": {},
   "source": [
    "Minimization function returns \"C\" = 68.29736138744246 and 'penalty' = 1(L2) as the best values of hyperparameters.\n",
    "\n",
    "The relevant information from each trial is extracted and visualized as pandas dataframe."
   ]
  },
  {
   "cell_type": "code",
   "execution_count": 21,
   "id": "9b7cdaad-1b0d-46f3-9414-eeec382e786e",
   "metadata": {},
   "outputs": [],
   "source": [
    "logr_metrics = []\n",
    "for trial in logr_trials.trials:\n",
    "    result = trial['result']\n",
    "    logr_metrics.append({\n",
    "        'loss': result['loss'],\n",
    "        'mean_recall': result['other_metrics']['mean_recall'],\n",
    "        'std_recall': result['other_metrics']['std_recall'],\n",
    "        'mean_accuracy': result['other_metrics']['mean_accuracy'],\n",
    "        'std_accuracy': result['other_metrics']['std_accuracy'],\n",
    "        'mean_roc_auc': result['other_metrics']['mean_roc_auc'],\n",
    "        'std_roc_auc': result['other_metrics']['std_roc_auc'],\n",
    "        'params': trial['misc']['vals']\n",
    "    })\n",
    "\n",
    "logr_trials_df = pd.DataFrame(logr_metrics)"
   ]
  },
  {
   "cell_type": "code",
   "execution_count": 22,
   "id": "5661165a-c982-4eb1-86ff-782ede9652e8",
   "metadata": {},
   "outputs": [
    {
     "data": {
      "text/html": [
       "<div>\n",
       "<style scoped>\n",
       "    .dataframe tbody tr th:only-of-type {\n",
       "        vertical-align: middle;\n",
       "    }\n",
       "\n",
       "    .dataframe tbody tr th {\n",
       "        vertical-align: top;\n",
       "    }\n",
       "\n",
       "    .dataframe thead th {\n",
       "        text-align: right;\n",
       "    }\n",
       "</style>\n",
       "<table border=\"1\" class=\"dataframe\">\n",
       "  <thead>\n",
       "    <tr style=\"text-align: right;\">\n",
       "      <th></th>\n",
       "      <th>loss</th>\n",
       "      <th>mean_recall</th>\n",
       "      <th>std_recall</th>\n",
       "      <th>mean_accuracy</th>\n",
       "      <th>std_accuracy</th>\n",
       "      <th>mean_roc_auc</th>\n",
       "      <th>std_roc_auc</th>\n",
       "      <th>params</th>\n",
       "    </tr>\n",
       "  </thead>\n",
       "  <tbody>\n",
       "    <tr>\n",
       "      <th>0</th>\n",
       "      <td>-0.995574</td>\n",
       "      <td>0.995574</td>\n",
       "      <td>0.002310</td>\n",
       "      <td>0.997866</td>\n",
       "      <td>0.001113</td>\n",
       "      <td>0.999953</td>\n",
       "      <td>3.063276e-05</td>\n",
       "      <td>{'C': [0.09375928061459672], 'penalty': [1]}</td>\n",
       "    </tr>\n",
       "    <tr>\n",
       "      <th>1</th>\n",
       "      <td>-1.000000</td>\n",
       "      <td>1.000000</td>\n",
       "      <td>0.000000</td>\n",
       "      <td>1.000000</td>\n",
       "      <td>0.000000</td>\n",
       "      <td>1.000000</td>\n",
       "      <td>0.000000e+00</td>\n",
       "      <td>{'C': [68.29736138744246], 'penalty': [1]}</td>\n",
       "    </tr>\n",
       "    <tr>\n",
       "      <th>2</th>\n",
       "      <td>-1.000000</td>\n",
       "      <td>1.000000</td>\n",
       "      <td>0.000000</td>\n",
       "      <td>1.000000</td>\n",
       "      <td>0.000000</td>\n",
       "      <td>1.000000</td>\n",
       "      <td>4.965068e-17</td>\n",
       "      <td>{'C': [7.951969983018893], 'penalty': [0]}</td>\n",
       "    </tr>\n",
       "    <tr>\n",
       "      <th>3</th>\n",
       "      <td>-1.000000</td>\n",
       "      <td>1.000000</td>\n",
       "      <td>0.000000</td>\n",
       "      <td>1.000000</td>\n",
       "      <td>0.000000</td>\n",
       "      <td>1.000000</td>\n",
       "      <td>7.021667e-17</td>\n",
       "      <td>{'C': [4.220650205931255], 'penalty': [0]}</td>\n",
       "    </tr>\n",
       "    <tr>\n",
       "      <th>4</th>\n",
       "      <td>-0.965613</td>\n",
       "      <td>0.965613</td>\n",
       "      <td>0.004971</td>\n",
       "      <td>0.974396</td>\n",
       "      <td>0.005433</td>\n",
       "      <td>0.996803</td>\n",
       "      <td>1.361914e-03</td>\n",
       "      <td>{'C': [0.004064644237754485], 'penalty': [1]}</td>\n",
       "    </tr>\n",
       "    <tr>\n",
       "      <th>...</th>\n",
       "      <td>...</td>\n",
       "      <td>...</td>\n",
       "      <td>...</td>\n",
       "      <td>...</td>\n",
       "      <td>...</td>\n",
       "      <td>...</td>\n",
       "      <td>...</td>\n",
       "      <td>...</td>\n",
       "    </tr>\n",
       "    <tr>\n",
       "      <th>75</th>\n",
       "      <td>-0.997957</td>\n",
       "      <td>0.997957</td>\n",
       "      <td>0.001274</td>\n",
       "      <td>0.999015</td>\n",
       "      <td>0.000614</td>\n",
       "      <td>0.999989</td>\n",
       "      <td>9.716552e-06</td>\n",
       "      <td>{'C': [0.15577941981187796], 'penalty': [1]}</td>\n",
       "    </tr>\n",
       "    <tr>\n",
       "      <th>76</th>\n",
       "      <td>-1.000000</td>\n",
       "      <td>1.000000</td>\n",
       "      <td>0.000000</td>\n",
       "      <td>1.000000</td>\n",
       "      <td>0.000000</td>\n",
       "      <td>1.000000</td>\n",
       "      <td>0.000000e+00</td>\n",
       "      <td>{'C': [16.785735046250956], 'penalty': [1]}</td>\n",
       "    </tr>\n",
       "    <tr>\n",
       "      <th>77</th>\n",
       "      <td>-1.000000</td>\n",
       "      <td>1.000000</td>\n",
       "      <td>0.000000</td>\n",
       "      <td>1.000000</td>\n",
       "      <td>0.000000</td>\n",
       "      <td>1.000000</td>\n",
       "      <td>0.000000e+00</td>\n",
       "      <td>{'C': [23.29286159258232], 'penalty': [1]}</td>\n",
       "    </tr>\n",
       "    <tr>\n",
       "      <th>78</th>\n",
       "      <td>-1.000000</td>\n",
       "      <td>1.000000</td>\n",
       "      <td>0.000000</td>\n",
       "      <td>1.000000</td>\n",
       "      <td>0.000000</td>\n",
       "      <td>1.000000</td>\n",
       "      <td>0.000000e+00</td>\n",
       "      <td>{'C': [8.806770443443561], 'penalty': [1]}</td>\n",
       "    </tr>\n",
       "    <tr>\n",
       "      <th>79</th>\n",
       "      <td>-1.000000</td>\n",
       "      <td>1.000000</td>\n",
       "      <td>0.000000</td>\n",
       "      <td>1.000000</td>\n",
       "      <td>0.000000</td>\n",
       "      <td>1.000000</td>\n",
       "      <td>0.000000e+00</td>\n",
       "      <td>{'C': [2.340267050948972], 'penalty': [1]}</td>\n",
       "    </tr>\n",
       "  </tbody>\n",
       "</table>\n",
       "<p>80 rows × 8 columns</p>\n",
       "</div>"
      ],
      "text/plain": [
       "        loss  mean_recall  std_recall  mean_accuracy  std_accuracy  \\\n",
       "0  -0.995574     0.995574    0.002310       0.997866      0.001113   \n",
       "1  -1.000000     1.000000    0.000000       1.000000      0.000000   \n",
       "2  -1.000000     1.000000    0.000000       1.000000      0.000000   \n",
       "3  -1.000000     1.000000    0.000000       1.000000      0.000000   \n",
       "4  -0.965613     0.965613    0.004971       0.974396      0.005433   \n",
       "..       ...          ...         ...            ...           ...   \n",
       "75 -0.997957     0.997957    0.001274       0.999015      0.000614   \n",
       "76 -1.000000     1.000000    0.000000       1.000000      0.000000   \n",
       "77 -1.000000     1.000000    0.000000       1.000000      0.000000   \n",
       "78 -1.000000     1.000000    0.000000       1.000000      0.000000   \n",
       "79 -1.000000     1.000000    0.000000       1.000000      0.000000   \n",
       "\n",
       "    mean_roc_auc   std_roc_auc                                         params  \n",
       "0       0.999953  3.063276e-05   {'C': [0.09375928061459672], 'penalty': [1]}  \n",
       "1       1.000000  0.000000e+00     {'C': [68.29736138744246], 'penalty': [1]}  \n",
       "2       1.000000  4.965068e-17     {'C': [7.951969983018893], 'penalty': [0]}  \n",
       "3       1.000000  7.021667e-17     {'C': [4.220650205931255], 'penalty': [0]}  \n",
       "4       0.996803  1.361914e-03  {'C': [0.004064644237754485], 'penalty': [1]}  \n",
       "..           ...           ...                                            ...  \n",
       "75      0.999989  9.716552e-06   {'C': [0.15577941981187796], 'penalty': [1]}  \n",
       "76      1.000000  0.000000e+00    {'C': [16.785735046250956], 'penalty': [1]}  \n",
       "77      1.000000  0.000000e+00     {'C': [23.29286159258232], 'penalty': [1]}  \n",
       "78      1.000000  0.000000e+00     {'C': [8.806770443443561], 'penalty': [1]}  \n",
       "79      1.000000  0.000000e+00     {'C': [2.340267050948972], 'penalty': [1]}  \n",
       "\n",
       "[80 rows x 8 columns]"
      ]
     },
     "execution_count": 22,
     "metadata": {},
     "output_type": "execute_result"
    }
   ],
   "source": [
    "logr_trials_df"
   ]
  },
  {
   "cell_type": "markdown",
   "id": "2b8989fc-903c-4feb-91f2-f89c7ecc6c15",
   "metadata": {},
   "source": [
    "There are many combinations of hyperparameters which result in maximum value for the evaluation metrics. This may be sign of overfitting. To confirm whether it is occurring, the model will be evaluated on the test set. I suggest that the high values of the evaluation metrics ​​are due to the relatively small size of the dataset, balanced distribution of the target variable with easily separable classes, and presence of clear patterns in the data. The standard deviation of the cross - validation metrics indicates low variability and consistency in results across diferent folds."
   ]
  },
  {
   "cell_type": "markdown",
   "id": "4257253e-7caf-430f-94e6-a3e55776186f",
   "metadata": {},
   "source": [
    "#### Model selection"
   ]
  },
  {
   "cell_type": "markdown",
   "id": "efba0388-9faa-4f9b-bbe9-a24f35a10cf9",
   "metadata": {},
   "source": [
    "From the trials with perfect score the combination of hyperparameters with the highest regularization strength among these using L1 penalty, is choosen. Since the results of EDA suggest that some features have low significance w.r.t the task of predicting the target variable label, Lasso is applied to sieve only the significant ones. Pushing the coefficients of the less important features to zero allows the importance of features to be interpreted. Since the modelling produces high scores of evaluation metrics, regularization strength is chosen to be of maximum value(among the trials with L1 penalty) to reduce eventual overfitting."
   ]
  },
  {
   "cell_type": "code",
   "execution_count": 23,
   "id": "1a095a73-6ee4-42a6-b624-730ca2b16fac",
   "metadata": {},
   "outputs": [],
   "source": [
    "logr_best_trial = logr_trials_df.sort_values(\n",
    "    by = ['params'], \n",
    "    key = lambda col: col.apply(lambda x: (x['penalty'][0], x['C'][0]))\n",
    ").sort_values(\n",
    "    by = ['mean_recall', 'mean_accuracy', 'mean_roc_auc'], \n",
    "    ascending = False\n",
    ").head(5)"
   ]
  },
  {
   "cell_type": "code",
   "execution_count": 24,
   "id": "ad19f94f-9cb3-49a0-868c-57f19d689951",
   "metadata": {},
   "outputs": [
    {
     "data": {
      "text/html": [
       "<div>\n",
       "<style scoped>\n",
       "    .dataframe tbody tr th:only-of-type {\n",
       "        vertical-align: middle;\n",
       "    }\n",
       "\n",
       "    .dataframe tbody tr th {\n",
       "        vertical-align: top;\n",
       "    }\n",
       "\n",
       "    .dataframe thead th {\n",
       "        text-align: right;\n",
       "    }\n",
       "</style>\n",
       "<table border=\"1\" class=\"dataframe\">\n",
       "  <thead>\n",
       "    <tr style=\"text-align: right;\">\n",
       "      <th></th>\n",
       "      <th>loss</th>\n",
       "      <th>mean_recall</th>\n",
       "      <th>std_recall</th>\n",
       "      <th>mean_accuracy</th>\n",
       "      <th>std_accuracy</th>\n",
       "      <th>mean_roc_auc</th>\n",
       "      <th>std_roc_auc</th>\n",
       "      <th>params</th>\n",
       "    </tr>\n",
       "  </thead>\n",
       "  <tbody>\n",
       "    <tr>\n",
       "      <th>59</th>\n",
       "      <td>-1.0</td>\n",
       "      <td>1.0</td>\n",
       "      <td>0.0</td>\n",
       "      <td>1.0</td>\n",
       "      <td>0.0</td>\n",
       "      <td>1.0</td>\n",
       "      <td>0.0</td>\n",
       "      <td>{'C': [0.8859574659241594], 'penalty': [0]}</td>\n",
       "    </tr>\n",
       "  </tbody>\n",
       "</table>\n",
       "</div>"
      ],
      "text/plain": [
       "    loss  mean_recall  std_recall  mean_accuracy  std_accuracy  mean_roc_auc  \\\n",
       "59  -1.0          1.0         0.0            1.0           0.0           1.0   \n",
       "\n",
       "    std_roc_auc                                       params  \n",
       "59          0.0  {'C': [0.8859574659241594], 'penalty': [0]}  "
      ]
     },
     "execution_count": 24,
     "metadata": {},
     "output_type": "execute_result"
    }
   ],
   "source": [
    "logr_best_trial.head(1)"
   ]
  },
  {
   "cell_type": "code",
   "execution_count": 25,
   "id": "d9041ae8-9f5a-403a-91b1-b037e4acab9c",
   "metadata": {},
   "outputs": [
    {
     "data": {
      "text/plain": [
       "0.8859574659241594"
      ]
     },
     "execution_count": 25,
     "metadata": {},
     "output_type": "execute_result"
    }
   ],
   "source": [
    "logr_c = logr_best_trial['params'].values[0]['C'][0]\n",
    "logr_c"
   ]
  },
  {
   "cell_type": "code",
   "execution_count": 26,
   "id": "b0bbb0b3-f05f-488b-bba3-e22e2ac34a81",
   "metadata": {},
   "outputs": [],
   "source": [
    "logr_penalty = 'l1'"
   ]
  },
  {
   "cell_type": "code",
   "execution_count": 27,
   "id": "6cf01fa9-0c18-4cb3-8f81-f8ec983a48df",
   "metadata": {},
   "outputs": [],
   "source": [
    "logr_model = LogisticRegression(penalty = logr_penalty, C = logr_c, solver = 'liblinear', random_state = RANDOM_SEED)"
   ]
  },
  {
   "cell_type": "code",
   "execution_count": 28,
   "id": "8a42c58c-89dd-4d31-a5f8-d625e7b576b4",
   "metadata": {},
   "outputs": [],
   "source": [
    "logr_pipe = Pipeline(steps = [\n",
    "    ('encode', attr_encoder),\n",
    "    ('classifier', logr_model)\n",
    "])"
   ]
  },
  {
   "cell_type": "code",
   "execution_count": 29,
   "id": "79a1fa22-4a53-4e52-afcc-effed8eafb8d",
   "metadata": {},
   "outputs": [
    {
     "data": {
      "text/html": [
       "<style>#sk-container-id-1 {\n",
       "  /* Definition of color scheme common for light and dark mode */\n",
       "  --sklearn-color-text: black;\n",
       "  --sklearn-color-line: gray;\n",
       "  /* Definition of color scheme for unfitted estimators */\n",
       "  --sklearn-color-unfitted-level-0: #fff5e6;\n",
       "  --sklearn-color-unfitted-level-1: #f6e4d2;\n",
       "  --sklearn-color-unfitted-level-2: #ffe0b3;\n",
       "  --sklearn-color-unfitted-level-3: chocolate;\n",
       "  /* Definition of color scheme for fitted estimators */\n",
       "  --sklearn-color-fitted-level-0: #f0f8ff;\n",
       "  --sklearn-color-fitted-level-1: #d4ebff;\n",
       "  --sklearn-color-fitted-level-2: #b3dbfd;\n",
       "  --sklearn-color-fitted-level-3: cornflowerblue;\n",
       "\n",
       "  /* Specific color for light theme */\n",
       "  --sklearn-color-text-on-default-background: var(--sg-text-color, var(--theme-code-foreground, var(--jp-content-font-color1, black)));\n",
       "  --sklearn-color-background: var(--sg-background-color, var(--theme-background, var(--jp-layout-color0, white)));\n",
       "  --sklearn-color-border-box: var(--sg-text-color, var(--theme-code-foreground, var(--jp-content-font-color1, black)));\n",
       "  --sklearn-color-icon: #696969;\n",
       "\n",
       "  @media (prefers-color-scheme: dark) {\n",
       "    /* Redefinition of color scheme for dark theme */\n",
       "    --sklearn-color-text-on-default-background: var(--sg-text-color, var(--theme-code-foreground, var(--jp-content-font-color1, white)));\n",
       "    --sklearn-color-background: var(--sg-background-color, var(--theme-background, var(--jp-layout-color0, #111)));\n",
       "    --sklearn-color-border-box: var(--sg-text-color, var(--theme-code-foreground, var(--jp-content-font-color1, white)));\n",
       "    --sklearn-color-icon: #878787;\n",
       "  }\n",
       "}\n",
       "\n",
       "#sk-container-id-1 {\n",
       "  color: var(--sklearn-color-text);\n",
       "}\n",
       "\n",
       "#sk-container-id-1 pre {\n",
       "  padding: 0;\n",
       "}\n",
       "\n",
       "#sk-container-id-1 input.sk-hidden--visually {\n",
       "  border: 0;\n",
       "  clip: rect(1px 1px 1px 1px);\n",
       "  clip: rect(1px, 1px, 1px, 1px);\n",
       "  height: 1px;\n",
       "  margin: -1px;\n",
       "  overflow: hidden;\n",
       "  padding: 0;\n",
       "  position: absolute;\n",
       "  width: 1px;\n",
       "}\n",
       "\n",
       "#sk-container-id-1 div.sk-dashed-wrapped {\n",
       "  border: 1px dashed var(--sklearn-color-line);\n",
       "  margin: 0 0.4em 0.5em 0.4em;\n",
       "  box-sizing: border-box;\n",
       "  padding-bottom: 0.4em;\n",
       "  background-color: var(--sklearn-color-background);\n",
       "}\n",
       "\n",
       "#sk-container-id-1 div.sk-container {\n",
       "  /* jupyter's `normalize.less` sets `[hidden] { display: none; }`\n",
       "     but bootstrap.min.css set `[hidden] { display: none !important; }`\n",
       "     so we also need the `!important` here to be able to override the\n",
       "     default hidden behavior on the sphinx rendered scikit-learn.org.\n",
       "     See: https://github.com/scikit-learn/scikit-learn/issues/21755 */\n",
       "  display: inline-block !important;\n",
       "  position: relative;\n",
       "}\n",
       "\n",
       "#sk-container-id-1 div.sk-text-repr-fallback {\n",
       "  display: none;\n",
       "}\n",
       "\n",
       "div.sk-parallel-item,\n",
       "div.sk-serial,\n",
       "div.sk-item {\n",
       "  /* draw centered vertical line to link estimators */\n",
       "  background-image: linear-gradient(var(--sklearn-color-text-on-default-background), var(--sklearn-color-text-on-default-background));\n",
       "  background-size: 2px 100%;\n",
       "  background-repeat: no-repeat;\n",
       "  background-position: center center;\n",
       "}\n",
       "\n",
       "/* Parallel-specific style estimator block */\n",
       "\n",
       "#sk-container-id-1 div.sk-parallel-item::after {\n",
       "  content: \"\";\n",
       "  width: 100%;\n",
       "  border-bottom: 2px solid var(--sklearn-color-text-on-default-background);\n",
       "  flex-grow: 1;\n",
       "}\n",
       "\n",
       "#sk-container-id-1 div.sk-parallel {\n",
       "  display: flex;\n",
       "  align-items: stretch;\n",
       "  justify-content: center;\n",
       "  background-color: var(--sklearn-color-background);\n",
       "  position: relative;\n",
       "}\n",
       "\n",
       "#sk-container-id-1 div.sk-parallel-item {\n",
       "  display: flex;\n",
       "  flex-direction: column;\n",
       "}\n",
       "\n",
       "#sk-container-id-1 div.sk-parallel-item:first-child::after {\n",
       "  align-self: flex-end;\n",
       "  width: 50%;\n",
       "}\n",
       "\n",
       "#sk-container-id-1 div.sk-parallel-item:last-child::after {\n",
       "  align-self: flex-start;\n",
       "  width: 50%;\n",
       "}\n",
       "\n",
       "#sk-container-id-1 div.sk-parallel-item:only-child::after {\n",
       "  width: 0;\n",
       "}\n",
       "\n",
       "/* Serial-specific style estimator block */\n",
       "\n",
       "#sk-container-id-1 div.sk-serial {\n",
       "  display: flex;\n",
       "  flex-direction: column;\n",
       "  align-items: center;\n",
       "  background-color: var(--sklearn-color-background);\n",
       "  padding-right: 1em;\n",
       "  padding-left: 1em;\n",
       "}\n",
       "\n",
       "\n",
       "/* Toggleable style: style used for estimator/Pipeline/ColumnTransformer box that is\n",
       "clickable and can be expanded/collapsed.\n",
       "- Pipeline and ColumnTransformer use this feature and define the default style\n",
       "- Estimators will overwrite some part of the style using the `sk-estimator` class\n",
       "*/\n",
       "\n",
       "/* Pipeline and ColumnTransformer style (default) */\n",
       "\n",
       "#sk-container-id-1 div.sk-toggleable {\n",
       "  /* Default theme specific background. It is overwritten whether we have a\n",
       "  specific estimator or a Pipeline/ColumnTransformer */\n",
       "  background-color: var(--sklearn-color-background);\n",
       "}\n",
       "\n",
       "/* Toggleable label */\n",
       "#sk-container-id-1 label.sk-toggleable__label {\n",
       "  cursor: pointer;\n",
       "  display: block;\n",
       "  width: 100%;\n",
       "  margin-bottom: 0;\n",
       "  padding: 0.5em;\n",
       "  box-sizing: border-box;\n",
       "  text-align: center;\n",
       "}\n",
       "\n",
       "#sk-container-id-1 label.sk-toggleable__label-arrow:before {\n",
       "  /* Arrow on the left of the label */\n",
       "  content: \"▸\";\n",
       "  float: left;\n",
       "  margin-right: 0.25em;\n",
       "  color: var(--sklearn-color-icon);\n",
       "}\n",
       "\n",
       "#sk-container-id-1 label.sk-toggleable__label-arrow:hover:before {\n",
       "  color: var(--sklearn-color-text);\n",
       "}\n",
       "\n",
       "/* Toggleable content - dropdown */\n",
       "\n",
       "#sk-container-id-1 div.sk-toggleable__content {\n",
       "  max-height: 0;\n",
       "  max-width: 0;\n",
       "  overflow: hidden;\n",
       "  text-align: left;\n",
       "  /* unfitted */\n",
       "  background-color: var(--sklearn-color-unfitted-level-0);\n",
       "}\n",
       "\n",
       "#sk-container-id-1 div.sk-toggleable__content.fitted {\n",
       "  /* fitted */\n",
       "  background-color: var(--sklearn-color-fitted-level-0);\n",
       "}\n",
       "\n",
       "#sk-container-id-1 div.sk-toggleable__content pre {\n",
       "  margin: 0.2em;\n",
       "  border-radius: 0.25em;\n",
       "  color: var(--sklearn-color-text);\n",
       "  /* unfitted */\n",
       "  background-color: var(--sklearn-color-unfitted-level-0);\n",
       "}\n",
       "\n",
       "#sk-container-id-1 div.sk-toggleable__content.fitted pre {\n",
       "  /* unfitted */\n",
       "  background-color: var(--sklearn-color-fitted-level-0);\n",
       "}\n",
       "\n",
       "#sk-container-id-1 input.sk-toggleable__control:checked~div.sk-toggleable__content {\n",
       "  /* Expand drop-down */\n",
       "  max-height: 200px;\n",
       "  max-width: 100%;\n",
       "  overflow: auto;\n",
       "}\n",
       "\n",
       "#sk-container-id-1 input.sk-toggleable__control:checked~label.sk-toggleable__label-arrow:before {\n",
       "  content: \"▾\";\n",
       "}\n",
       "\n",
       "/* Pipeline/ColumnTransformer-specific style */\n",
       "\n",
       "#sk-container-id-1 div.sk-label input.sk-toggleable__control:checked~label.sk-toggleable__label {\n",
       "  color: var(--sklearn-color-text);\n",
       "  background-color: var(--sklearn-color-unfitted-level-2);\n",
       "}\n",
       "\n",
       "#sk-container-id-1 div.sk-label.fitted input.sk-toggleable__control:checked~label.sk-toggleable__label {\n",
       "  background-color: var(--sklearn-color-fitted-level-2);\n",
       "}\n",
       "\n",
       "/* Estimator-specific style */\n",
       "\n",
       "/* Colorize estimator box */\n",
       "#sk-container-id-1 div.sk-estimator input.sk-toggleable__control:checked~label.sk-toggleable__label {\n",
       "  /* unfitted */\n",
       "  background-color: var(--sklearn-color-unfitted-level-2);\n",
       "}\n",
       "\n",
       "#sk-container-id-1 div.sk-estimator.fitted input.sk-toggleable__control:checked~label.sk-toggleable__label {\n",
       "  /* fitted */\n",
       "  background-color: var(--sklearn-color-fitted-level-2);\n",
       "}\n",
       "\n",
       "#sk-container-id-1 div.sk-label label.sk-toggleable__label,\n",
       "#sk-container-id-1 div.sk-label label {\n",
       "  /* The background is the default theme color */\n",
       "  color: var(--sklearn-color-text-on-default-background);\n",
       "}\n",
       "\n",
       "/* On hover, darken the color of the background */\n",
       "#sk-container-id-1 div.sk-label:hover label.sk-toggleable__label {\n",
       "  color: var(--sklearn-color-text);\n",
       "  background-color: var(--sklearn-color-unfitted-level-2);\n",
       "}\n",
       "\n",
       "/* Label box, darken color on hover, fitted */\n",
       "#sk-container-id-1 div.sk-label.fitted:hover label.sk-toggleable__label.fitted {\n",
       "  color: var(--sklearn-color-text);\n",
       "  background-color: var(--sklearn-color-fitted-level-2);\n",
       "}\n",
       "\n",
       "/* Estimator label */\n",
       "\n",
       "#sk-container-id-1 div.sk-label label {\n",
       "  font-family: monospace;\n",
       "  font-weight: bold;\n",
       "  display: inline-block;\n",
       "  line-height: 1.2em;\n",
       "}\n",
       "\n",
       "#sk-container-id-1 div.sk-label-container {\n",
       "  text-align: center;\n",
       "}\n",
       "\n",
       "/* Estimator-specific */\n",
       "#sk-container-id-1 div.sk-estimator {\n",
       "  font-family: monospace;\n",
       "  border: 1px dotted var(--sklearn-color-border-box);\n",
       "  border-radius: 0.25em;\n",
       "  box-sizing: border-box;\n",
       "  margin-bottom: 0.5em;\n",
       "  /* unfitted */\n",
       "  background-color: var(--sklearn-color-unfitted-level-0);\n",
       "}\n",
       "\n",
       "#sk-container-id-1 div.sk-estimator.fitted {\n",
       "  /* fitted */\n",
       "  background-color: var(--sklearn-color-fitted-level-0);\n",
       "}\n",
       "\n",
       "/* on hover */\n",
       "#sk-container-id-1 div.sk-estimator:hover {\n",
       "  /* unfitted */\n",
       "  background-color: var(--sklearn-color-unfitted-level-2);\n",
       "}\n",
       "\n",
       "#sk-container-id-1 div.sk-estimator.fitted:hover {\n",
       "  /* fitted */\n",
       "  background-color: var(--sklearn-color-fitted-level-2);\n",
       "}\n",
       "\n",
       "/* Specification for estimator info (e.g. \"i\" and \"?\") */\n",
       "\n",
       "/* Common style for \"i\" and \"?\" */\n",
       "\n",
       ".sk-estimator-doc-link,\n",
       "a:link.sk-estimator-doc-link,\n",
       "a:visited.sk-estimator-doc-link {\n",
       "  float: right;\n",
       "  font-size: smaller;\n",
       "  line-height: 1em;\n",
       "  font-family: monospace;\n",
       "  background-color: var(--sklearn-color-background);\n",
       "  border-radius: 1em;\n",
       "  height: 1em;\n",
       "  width: 1em;\n",
       "  text-decoration: none !important;\n",
       "  margin-left: 1ex;\n",
       "  /* unfitted */\n",
       "  border: var(--sklearn-color-unfitted-level-1) 1pt solid;\n",
       "  color: var(--sklearn-color-unfitted-level-1);\n",
       "}\n",
       "\n",
       ".sk-estimator-doc-link.fitted,\n",
       "a:link.sk-estimator-doc-link.fitted,\n",
       "a:visited.sk-estimator-doc-link.fitted {\n",
       "  /* fitted */\n",
       "  border: var(--sklearn-color-fitted-level-1) 1pt solid;\n",
       "  color: var(--sklearn-color-fitted-level-1);\n",
       "}\n",
       "\n",
       "/* On hover */\n",
       "div.sk-estimator:hover .sk-estimator-doc-link:hover,\n",
       ".sk-estimator-doc-link:hover,\n",
       "div.sk-label-container:hover .sk-estimator-doc-link:hover,\n",
       ".sk-estimator-doc-link:hover {\n",
       "  /* unfitted */\n",
       "  background-color: var(--sklearn-color-unfitted-level-3);\n",
       "  color: var(--sklearn-color-background);\n",
       "  text-decoration: none;\n",
       "}\n",
       "\n",
       "div.sk-estimator.fitted:hover .sk-estimator-doc-link.fitted:hover,\n",
       ".sk-estimator-doc-link.fitted:hover,\n",
       "div.sk-label-container:hover .sk-estimator-doc-link.fitted:hover,\n",
       ".sk-estimator-doc-link.fitted:hover {\n",
       "  /* fitted */\n",
       "  background-color: var(--sklearn-color-fitted-level-3);\n",
       "  color: var(--sklearn-color-background);\n",
       "  text-decoration: none;\n",
       "}\n",
       "\n",
       "/* Span, style for the box shown on hovering the info icon */\n",
       ".sk-estimator-doc-link span {\n",
       "  display: none;\n",
       "  z-index: 9999;\n",
       "  position: relative;\n",
       "  font-weight: normal;\n",
       "  right: .2ex;\n",
       "  padding: .5ex;\n",
       "  margin: .5ex;\n",
       "  width: min-content;\n",
       "  min-width: 20ex;\n",
       "  max-width: 50ex;\n",
       "  color: var(--sklearn-color-text);\n",
       "  box-shadow: 2pt 2pt 4pt #999;\n",
       "  /* unfitted */\n",
       "  background: var(--sklearn-color-unfitted-level-0);\n",
       "  border: .5pt solid var(--sklearn-color-unfitted-level-3);\n",
       "}\n",
       "\n",
       ".sk-estimator-doc-link.fitted span {\n",
       "  /* fitted */\n",
       "  background: var(--sklearn-color-fitted-level-0);\n",
       "  border: var(--sklearn-color-fitted-level-3);\n",
       "}\n",
       "\n",
       ".sk-estimator-doc-link:hover span {\n",
       "  display: block;\n",
       "}\n",
       "\n",
       "/* \"?\"-specific style due to the `<a>` HTML tag */\n",
       "\n",
       "#sk-container-id-1 a.estimator_doc_link {\n",
       "  float: right;\n",
       "  font-size: 1rem;\n",
       "  line-height: 1em;\n",
       "  font-family: monospace;\n",
       "  background-color: var(--sklearn-color-background);\n",
       "  border-radius: 1rem;\n",
       "  height: 1rem;\n",
       "  width: 1rem;\n",
       "  text-decoration: none;\n",
       "  /* unfitted */\n",
       "  color: var(--sklearn-color-unfitted-level-1);\n",
       "  border: var(--sklearn-color-unfitted-level-1) 1pt solid;\n",
       "}\n",
       "\n",
       "#sk-container-id-1 a.estimator_doc_link.fitted {\n",
       "  /* fitted */\n",
       "  border: var(--sklearn-color-fitted-level-1) 1pt solid;\n",
       "  color: var(--sklearn-color-fitted-level-1);\n",
       "}\n",
       "\n",
       "/* On hover */\n",
       "#sk-container-id-1 a.estimator_doc_link:hover {\n",
       "  /* unfitted */\n",
       "  background-color: var(--sklearn-color-unfitted-level-3);\n",
       "  color: var(--sklearn-color-background);\n",
       "  text-decoration: none;\n",
       "}\n",
       "\n",
       "#sk-container-id-1 a.estimator_doc_link.fitted:hover {\n",
       "  /* fitted */\n",
       "  background-color: var(--sklearn-color-fitted-level-3);\n",
       "}\n",
       "</style><div id=\"sk-container-id-1\" class=\"sk-top-container\"><div class=\"sk-text-repr-fallback\"><pre>Pipeline(steps=[(&#x27;encode&#x27;,\n",
       "                 ColumnTransformer(transformers=[(&#x27;one-hot&#x27;,\n",
       "                                                  OneHotEncoder(categories=[array([&#x27;x&#x27;, &#x27;f&#x27;, &#x27;b&#x27;, &#x27;k&#x27;, &#x27;s&#x27;, &#x27;c&#x27;], dtype=object),\n",
       "                                                                            array([&#x27;s&#x27;, &#x27;y&#x27;, &#x27;f&#x27;, &#x27;g&#x27;], dtype=object),\n",
       "                                                                            array([&#x27;w&#x27;, &#x27;n&#x27;, &#x27;b&#x27;, &#x27;y&#x27;, &#x27;g&#x27;, &#x27;u&#x27;, &#x27;e&#x27;, &#x27;p&#x27;, &#x27;c&#x27;, &#x27;r&#x27;], dtype=object),\n",
       "                                                                            array([&#x27;f&#x27;, &#x27;t&#x27;], dtype=object),\n",
       "                                                                            array([&#x27;n&#x27;, &#x27;f&#x27;, &#x27;y&#x27;, &#x27;s&#x27;, &#x27;l&#x27;, &#x27;p&#x27;, &#x27;c&#x27;, &#x27;a&#x27;, &#x27;m&#x27;], dtype=object),\n",
       "                                                                            array([&#x27;f&#x27;, &#x27;a&#x27;], dtype...\n",
       "       &#x27;gill_attachment&#x27;, &#x27;gill_spacing&#x27;, &#x27;gill_size&#x27;, &#x27;gill_color&#x27;,\n",
       "       &#x27;stalk_shape&#x27;, &#x27;stalk_root&#x27;, &#x27;stalk_surface_above_ring&#x27;,\n",
       "       &#x27;stalk_surface_below_ring&#x27;, &#x27;stalk_color_above_ring&#x27;,\n",
       "       &#x27;stalk_color_below_ring&#x27;, &#x27;veil_color&#x27;, &#x27;ring_number&#x27;, &#x27;ring_type&#x27;,\n",
       "       &#x27;spore_print_color&#x27;, &#x27;population&#x27;, &#x27;habitat&#x27;], dtype=object))])),\n",
       "                (&#x27;classifier&#x27;,\n",
       "                 LogisticRegression(C=0.8859574659241594, penalty=&#x27;l1&#x27;,\n",
       "                                    random_state=11, solver=&#x27;liblinear&#x27;))])</pre><b>In a Jupyter environment, please rerun this cell to show the HTML representation or trust the notebook. <br />On GitHub, the HTML representation is unable to render, please try loading this page with nbviewer.org.</b></div><div class=\"sk-container\" hidden><div class=\"sk-item sk-dashed-wrapped\"><div class=\"sk-label-container\"><div class=\"sk-label fitted sk-toggleable\"><input class=\"sk-toggleable__control sk-hidden--visually\" id=\"sk-estimator-id-1\" type=\"checkbox\" ><label for=\"sk-estimator-id-1\" class=\"sk-toggleable__label fitted sk-toggleable__label-arrow fitted\">&nbsp;&nbsp;Pipeline<a class=\"sk-estimator-doc-link fitted\" rel=\"noreferrer\" target=\"_blank\" href=\"https://scikit-learn.org/1.4/modules/generated/sklearn.pipeline.Pipeline.html\">?<span>Documentation for Pipeline</span></a><span class=\"sk-estimator-doc-link fitted\">i<span>Fitted</span></span></label><div class=\"sk-toggleable__content fitted\"><pre>Pipeline(steps=[(&#x27;encode&#x27;,\n",
       "                 ColumnTransformer(transformers=[(&#x27;one-hot&#x27;,\n",
       "                                                  OneHotEncoder(categories=[array([&#x27;x&#x27;, &#x27;f&#x27;, &#x27;b&#x27;, &#x27;k&#x27;, &#x27;s&#x27;, &#x27;c&#x27;], dtype=object),\n",
       "                                                                            array([&#x27;s&#x27;, &#x27;y&#x27;, &#x27;f&#x27;, &#x27;g&#x27;], dtype=object),\n",
       "                                                                            array([&#x27;w&#x27;, &#x27;n&#x27;, &#x27;b&#x27;, &#x27;y&#x27;, &#x27;g&#x27;, &#x27;u&#x27;, &#x27;e&#x27;, &#x27;p&#x27;, &#x27;c&#x27;, &#x27;r&#x27;], dtype=object),\n",
       "                                                                            array([&#x27;f&#x27;, &#x27;t&#x27;], dtype=object),\n",
       "                                                                            array([&#x27;n&#x27;, &#x27;f&#x27;, &#x27;y&#x27;, &#x27;s&#x27;, &#x27;l&#x27;, &#x27;p&#x27;, &#x27;c&#x27;, &#x27;a&#x27;, &#x27;m&#x27;], dtype=object),\n",
       "                                                                            array([&#x27;f&#x27;, &#x27;a&#x27;], dtype...\n",
       "       &#x27;gill_attachment&#x27;, &#x27;gill_spacing&#x27;, &#x27;gill_size&#x27;, &#x27;gill_color&#x27;,\n",
       "       &#x27;stalk_shape&#x27;, &#x27;stalk_root&#x27;, &#x27;stalk_surface_above_ring&#x27;,\n",
       "       &#x27;stalk_surface_below_ring&#x27;, &#x27;stalk_color_above_ring&#x27;,\n",
       "       &#x27;stalk_color_below_ring&#x27;, &#x27;veil_color&#x27;, &#x27;ring_number&#x27;, &#x27;ring_type&#x27;,\n",
       "       &#x27;spore_print_color&#x27;, &#x27;population&#x27;, &#x27;habitat&#x27;], dtype=object))])),\n",
       "                (&#x27;classifier&#x27;,\n",
       "                 LogisticRegression(C=0.8859574659241594, penalty=&#x27;l1&#x27;,\n",
       "                                    random_state=11, solver=&#x27;liblinear&#x27;))])</pre></div> </div></div><div class=\"sk-serial\"><div class=\"sk-item sk-dashed-wrapped\"><div class=\"sk-label-container\"><div class=\"sk-label fitted sk-toggleable\"><input class=\"sk-toggleable__control sk-hidden--visually\" id=\"sk-estimator-id-2\" type=\"checkbox\" ><label for=\"sk-estimator-id-2\" class=\"sk-toggleable__label fitted sk-toggleable__label-arrow fitted\">&nbsp;encode: ColumnTransformer<a class=\"sk-estimator-doc-link fitted\" rel=\"noreferrer\" target=\"_blank\" href=\"https://scikit-learn.org/1.4/modules/generated/sklearn.compose.ColumnTransformer.html\">?<span>Documentation for encode: ColumnTransformer</span></a></label><div class=\"sk-toggleable__content fitted\"><pre>ColumnTransformer(transformers=[(&#x27;one-hot&#x27;,\n",
       "                                 OneHotEncoder(categories=[array([&#x27;x&#x27;, &#x27;f&#x27;, &#x27;b&#x27;, &#x27;k&#x27;, &#x27;s&#x27;, &#x27;c&#x27;], dtype=object),\n",
       "                                                           array([&#x27;s&#x27;, &#x27;y&#x27;, &#x27;f&#x27;, &#x27;g&#x27;], dtype=object),\n",
       "                                                           array([&#x27;w&#x27;, &#x27;n&#x27;, &#x27;b&#x27;, &#x27;y&#x27;, &#x27;g&#x27;, &#x27;u&#x27;, &#x27;e&#x27;, &#x27;p&#x27;, &#x27;c&#x27;, &#x27;r&#x27;], dtype=object),\n",
       "                                                           array([&#x27;f&#x27;, &#x27;t&#x27;], dtype=object),\n",
       "                                                           array([&#x27;n&#x27;, &#x27;f&#x27;, &#x27;y&#x27;, &#x27;s&#x27;, &#x27;l&#x27;, &#x27;p&#x27;, &#x27;c&#x27;, &#x27;a&#x27;, &#x27;m&#x27;], dtype=object),\n",
       "                                                           array([&#x27;f&#x27;, &#x27;a&#x27;], dtype=object),\n",
       "                                                           array([&#x27;w&#x27;, &#x27;c&#x27;], d...\n",
       "                                 array([&#x27;cap_shape&#x27;, &#x27;cap_surface&#x27;, &#x27;cap_color&#x27;, &#x27;bruises&#x27;, &#x27;odor&#x27;,\n",
       "       &#x27;gill_attachment&#x27;, &#x27;gill_spacing&#x27;, &#x27;gill_size&#x27;, &#x27;gill_color&#x27;,\n",
       "       &#x27;stalk_shape&#x27;, &#x27;stalk_root&#x27;, &#x27;stalk_surface_above_ring&#x27;,\n",
       "       &#x27;stalk_surface_below_ring&#x27;, &#x27;stalk_color_above_ring&#x27;,\n",
       "       &#x27;stalk_color_below_ring&#x27;, &#x27;veil_color&#x27;, &#x27;ring_number&#x27;, &#x27;ring_type&#x27;,\n",
       "       &#x27;spore_print_color&#x27;, &#x27;population&#x27;, &#x27;habitat&#x27;], dtype=object))])</pre></div> </div></div><div class=\"sk-parallel\"><div class=\"sk-parallel-item\"><div class=\"sk-item\"><div class=\"sk-label-container\"><div class=\"sk-label fitted sk-toggleable\"><input class=\"sk-toggleable__control sk-hidden--visually\" id=\"sk-estimator-id-3\" type=\"checkbox\" ><label for=\"sk-estimator-id-3\" class=\"sk-toggleable__label fitted sk-toggleable__label-arrow fitted\">one-hot</label><div class=\"sk-toggleable__content fitted\"><pre>[&#x27;cap_shape&#x27; &#x27;cap_surface&#x27; &#x27;cap_color&#x27; &#x27;bruises&#x27; &#x27;odor&#x27; &#x27;gill_attachment&#x27;\n",
       " &#x27;gill_spacing&#x27; &#x27;gill_size&#x27; &#x27;gill_color&#x27; &#x27;stalk_shape&#x27; &#x27;stalk_root&#x27;\n",
       " &#x27;stalk_surface_above_ring&#x27; &#x27;stalk_surface_below_ring&#x27;\n",
       " &#x27;stalk_color_above_ring&#x27; &#x27;stalk_color_below_ring&#x27; &#x27;veil_color&#x27;\n",
       " &#x27;ring_number&#x27; &#x27;ring_type&#x27; &#x27;spore_print_color&#x27; &#x27;population&#x27; &#x27;habitat&#x27;]</pre></div> </div></div><div class=\"sk-serial\"><div class=\"sk-item\"><div class=\"sk-estimator fitted sk-toggleable\"><input class=\"sk-toggleable__control sk-hidden--visually\" id=\"sk-estimator-id-4\" type=\"checkbox\" ><label for=\"sk-estimator-id-4\" class=\"sk-toggleable__label fitted sk-toggleable__label-arrow fitted\">&nbsp;OneHotEncoder<a class=\"sk-estimator-doc-link fitted\" rel=\"noreferrer\" target=\"_blank\" href=\"https://scikit-learn.org/1.4/modules/generated/sklearn.preprocessing.OneHotEncoder.html\">?<span>Documentation for OneHotEncoder</span></a></label><div class=\"sk-toggleable__content fitted\"><pre>OneHotEncoder(categories=[array([&#x27;x&#x27;, &#x27;f&#x27;, &#x27;b&#x27;, &#x27;k&#x27;, &#x27;s&#x27;, &#x27;c&#x27;], dtype=object),\n",
       "                          array([&#x27;s&#x27;, &#x27;y&#x27;, &#x27;f&#x27;, &#x27;g&#x27;], dtype=object),\n",
       "                          array([&#x27;w&#x27;, &#x27;n&#x27;, &#x27;b&#x27;, &#x27;y&#x27;, &#x27;g&#x27;, &#x27;u&#x27;, &#x27;e&#x27;, &#x27;p&#x27;, &#x27;c&#x27;, &#x27;r&#x27;], dtype=object),\n",
       "                          array([&#x27;f&#x27;, &#x27;t&#x27;], dtype=object),\n",
       "                          array([&#x27;n&#x27;, &#x27;f&#x27;, &#x27;y&#x27;, &#x27;s&#x27;, &#x27;l&#x27;, &#x27;p&#x27;, &#x27;c&#x27;, &#x27;a&#x27;, &#x27;m&#x27;], dtype=object),\n",
       "                          array([&#x27;f&#x27;, &#x27;a&#x27;], dtype=object),\n",
       "                          array([&#x27;w&#x27;, &#x27;c&#x27;], dtype=object),\n",
       "                          array([&#x27;b&#x27;, &#x27;n&#x27;], dtype=object),...\n",
       "                          array([&#x27;w&#x27;, &#x27;o&#x27;, &#x27;e&#x27;, &#x27;n&#x27;, &#x27;p&#x27;, &#x27;b&#x27;, &#x27;g&#x27;, &#x27;c&#x27;, &#x27;y&#x27;], dtype=object),\n",
       "                          array([&#x27;w&#x27;, &#x27;n&#x27;, &#x27;o&#x27;, &#x27;y&#x27;], dtype=object),\n",
       "                          array([&#x27;o&#x27;, &#x27;t&#x27;, &#x27;n&#x27;], dtype=object),\n",
       "                          array([&#x27;e&#x27;, &#x27;p&#x27;, &#x27;l&#x27;, &#x27;f&#x27;, &#x27;n&#x27;], dtype=object),\n",
       "                          array([&#x27;k&#x27;, &#x27;n&#x27;, &#x27;w&#x27;, &#x27;h&#x27;, &#x27;b&#x27;, &#x27;r&#x27;, &#x27;o&#x27;, &#x27;u&#x27;, &#x27;y&#x27;], dtype=object),\n",
       "                          array([&#x27;a&#x27;, &#x27;v&#x27;, &#x27;c&#x27;, &#x27;y&#x27;, &#x27;s&#x27;, &#x27;n&#x27;], dtype=object),\n",
       "                          array([&#x27;g&#x27;, &#x27;l&#x27;, &#x27;w&#x27;, &#x27;p&#x27;, &#x27;d&#x27;, &#x27;u&#x27;, &#x27;m&#x27;], dtype=object)],\n",
       "              handle_unknown=&#x27;ignore&#x27;)</pre></div> </div></div></div></div></div></div></div><div class=\"sk-item\"><div class=\"sk-estimator fitted sk-toggleable\"><input class=\"sk-toggleable__control sk-hidden--visually\" id=\"sk-estimator-id-5\" type=\"checkbox\" ><label for=\"sk-estimator-id-5\" class=\"sk-toggleable__label fitted sk-toggleable__label-arrow fitted\">&nbsp;LogisticRegression<a class=\"sk-estimator-doc-link fitted\" rel=\"noreferrer\" target=\"_blank\" href=\"https://scikit-learn.org/1.4/modules/generated/sklearn.linear_model.LogisticRegression.html\">?<span>Documentation for LogisticRegression</span></a></label><div class=\"sk-toggleable__content fitted\"><pre>LogisticRegression(C=0.8859574659241594, penalty=&#x27;l1&#x27;, random_state=11,\n",
       "                   solver=&#x27;liblinear&#x27;)</pre></div> </div></div></div></div></div></div>"
      ],
      "text/plain": [
       "Pipeline(steps=[('encode',\n",
       "                 ColumnTransformer(transformers=[('one-hot',\n",
       "                                                  OneHotEncoder(categories=[array(['x', 'f', 'b', 'k', 's', 'c'], dtype=object),\n",
       "                                                                            array(['s', 'y', 'f', 'g'], dtype=object),\n",
       "                                                                            array(['w', 'n', 'b', 'y', 'g', 'u', 'e', 'p', 'c', 'r'], dtype=object),\n",
       "                                                                            array(['f', 't'], dtype=object),\n",
       "                                                                            array(['n', 'f', 'y', 's', 'l', 'p', 'c', 'a', 'm'], dtype=object),\n",
       "                                                                            array(['f', 'a'], dtype...\n",
       "       'gill_attachment', 'gill_spacing', 'gill_size', 'gill_color',\n",
       "       'stalk_shape', 'stalk_root', 'stalk_surface_above_ring',\n",
       "       'stalk_surface_below_ring', 'stalk_color_above_ring',\n",
       "       'stalk_color_below_ring', 'veil_color', 'ring_number', 'ring_type',\n",
       "       'spore_print_color', 'population', 'habitat'], dtype=object))])),\n",
       "                ('classifier',\n",
       "                 LogisticRegression(C=0.8859574659241594, penalty='l1',\n",
       "                                    random_state=11, solver='liblinear'))])"
      ]
     },
     "execution_count": 29,
     "metadata": {},
     "output_type": "execute_result"
    }
   ],
   "source": [
    "logr_pipe.fit(mushroom_attr_train, mushroom_target_train)"
   ]
  },
  {
   "cell_type": "markdown",
   "id": "4091fefa-479b-4d6b-9310-0093b48177ae",
   "metadata": {},
   "source": [
    "#### Feature and category importance"
   ]
  },
  {
   "cell_type": "code",
   "execution_count": 30,
   "id": "9999af46-8cf7-4bf6-be9a-7ded26711f9f",
   "metadata": {},
   "outputs": [],
   "source": [
    "logr_coefficients = logr_pipe.named_steps['classifier'].coef_[0]"
   ]
  },
  {
   "cell_type": "code",
   "execution_count": 31,
   "id": "c4f06510-5327-4b6e-8dfa-2466c0a2682f",
   "metadata": {},
   "outputs": [],
   "source": [
    "logr_encoded_feature_names = logr_pipe.named_steps['encode'].named_transformers_['one-hot'].get_feature_names_out(mushroom_columns)"
   ]
  },
  {
   "cell_type": "code",
   "execution_count": 32,
   "id": "85701be8-e375-4874-bab4-f10cfd94c488",
   "metadata": {},
   "outputs": [
    {
     "data": {
      "text/plain": [
       "True"
      ]
     },
     "execution_count": 32,
     "metadata": {},
     "output_type": "execute_result"
    }
   ],
   "source": [
    "len(logr_coefficients) == len(logr_encoded_feature_names)"
   ]
  },
  {
   "cell_type": "code",
   "execution_count": 33,
   "id": "31272575-a125-4ea9-a23e-587fbacc9379",
   "metadata": {},
   "outputs": [
    {
     "data": {
      "image/png": "[encoded data removed]",
      "text/plain": [
       "<Figure size 1000x700 with 1 Axes>"
      ]
     },
     "metadata": {},
     "output_type": "display_data"
    }
   ],
   "source": [
    "logr_cat_coef_df = pd.DataFrame({'features': logr_encoded_feature_names, 'coefficients': logr_coefficients})\n",
    "logr_cat_coef_df['abs_coefficients'] = logr_cat_coef_df['coefficients'].abs()\n",
    "logr_cat_coef_df = logr_cat_coef_df[logr_cat_coef_df['coefficients'] != 0]\n",
    "logr_cat_coef_df = logr_cat_coef_df.sort_values(by = 'abs_coefficients', ascending = False)\n",
    "\n",
    "plt.figure(figsize = (10, 7))\n",
    "sns.barplot(x = 'abs_coefficients', y = 'features', data = logr_cat_coef_df)\n",
    "plt.xlabel('coefficient value')\n",
    "plt.ylabel('feature / category')\n",
    "plt.title('Category importances with L1 Regularization')\n",
    "plt.show()"
   ]
  },
  {
   "cell_type": "markdown",
   "id": "cec8cbce-b087-48a4-a000-30ace07d3eaa",
   "metadata": {},
   "source": [
    "Since the features have been one - hot encoded, the solver find separate coefficients for each category. These coefficients show how each specific category influences the probability of predicting the positive class. Of course, they are shrаnk by the regularization term and some are completely gone, because L1 regularization is applied. \n",
    "\n",
    "We can observe that the most significant category is \"spore_print_color_r\" which corresponds to green color os spores. The EDA above shows that there are 78 observations containing this category, and all of them are of poisonous mushrooms. For the same feature the algorithm found as less signifficant the \"white\"(w) and \"numerous\"(n) categories. Тhe absence of other categories that EDA defined as significant, within \"spore_print_color\" feature, like \"black\"(k) and \"chocolate\"(h) is noticeable. It is due to the used L1 regularization.\n",
    "\n",
    "The next most significant categories belong to \"odor\" feature. As noted in EDA, this column seems to be the most important for the classification of the target variable label. Still some of it's categories which contain only observations with no mixed labels, are penalized by the Lasso to values of zero. Generally, from all 116 categories just 21 are left."
   ]
  },
  {
   "cell_type": "code",
   "execution_count": 34,
   "id": "d7db2525-0b34-429a-bc8a-67fe5e810dfc",
   "metadata": {},
   "outputs": [
    {
     "data": {
      "image/png": "[encoded data removed]",
      "text/plain": [
       "<Figure size 1000x600 with 1 Axes>"
      ]
     },
     "metadata": {},
     "output_type": "display_data"
    }
   ],
   "source": [
    "logr_cat_coef_df['original_features'] = logr_cat_coef_df['features'].apply(lambda name: name.rsplit('_', 1)[0])\n",
    "\n",
    "feature_importance_df = logr_cat_coef_df.groupby('original_features')['abs_coefficients'].sum().reset_index()\n",
    "feature_importance_df = feature_importance_df.sort_values(by = 'abs_coefficients', ascending = False)\n",
    "\n",
    "plt.figure(figsize = (10, 6))\n",
    "sns.barplot(x = 'abs_coefficients', y = 'original_features', data = feature_importance_df)\n",
    "plt.xlabel('coefficient value')\n",
    "plt.ylabel('feature')\n",
    "plt.title('Feature importances with L1 Regularization')\n",
    "plt.show()"
   ]
  },
  {
   "cell_type": "markdown",
   "id": "dccef593-d3ec-4aab-aa77-1832d9c9902f",
   "metadata": {},
   "source": [
    "To interpret the importance of original features, the one-hot encoded coefficients are grouped. Like in the EDA insights, the most telling feature determined by the solver is \"odor\", followed by \"spore_print_color\". It is noticeable the absence of another very telling(based on data analysis) feature - \"gill_color\". With that exception, all signifficant features, found in EDA have coefficients greater than zero. Their magnitude(absolute value) indicates the strength of the influence of the corresponding feature. From 21 columns, 12 are left after the applied Lasso regularization."
   ]
  },
  {
   "cell_type": "markdown",
   "id": "33608b1b-3e89-42ca-b57a-fab0b530e585",
   "metadata": {},
   "source": [
    "#### Evaluation with test data"
   ]
  },
  {
   "cell_type": "markdown",
   "id": "1ba99b2a-a54c-4532-be5e-955b84d15601",
   "metadata": {},
   "source": [
    "The trained model is evaluated on a test set to assess how well the it generalizes to new, unseen data.\n",
    "This should provide an unbiased estimate of the model performance, detect overfitting, and a real world scenarios.\n",
    "Two types of predictions of target variable class are made and observed - of labels and of probabilities."
   ]
  },
  {
   "cell_type": "code",
   "execution_count": 35,
   "id": "1b1b43d9-c91f-4f50-a723-8b301fb5ee80",
   "metadata": {},
   "outputs": [],
   "source": [
    "logr_predicted = logr_pipe.predict(mushroom_attr_test)"
   ]
  },
  {
   "cell_type": "code",
   "execution_count": 36,
   "id": "9f0db229-e668-4da3-9620-73123bf9e651",
   "metadata": {},
   "outputs": [],
   "source": [
    "logr_prob = logr_pipe.predict_proba(mushroom_attr_test)"
   ]
  },
  {
   "cell_type": "code",
   "execution_count": 63,
   "id": "10ba7cb7-7620-4732-885b-4e25934b0967",
   "metadata": {},
   "outputs": [],
   "source": [
    "logr_conf_matrix = confusion_matrix(mushroom_target_test, logr_predicted)"
   ]
  },
  {
   "cell_type": "code",
   "execution_count": 64,
   "id": "a5cda998-52b1-4fc4-a78e-383daf5265e5",
   "metadata": {},
   "outputs": [
    {
     "data": {
      "image/png": "[encoded data removed]",
      "text/plain": [
       "<Figure size 700x400 with 2 Axes>"
      ]
     },
     "metadata": {},
     "output_type": "display_data"
    }
   ],
   "source": [
    "fig, axes = plt.subplots(1, 1, figsize = (7, 4))\n",
    "\n",
    "sns.heatmap(logr_conf_matrix, annot = True, fmt = 'd', cmap = 'YlGnBu')\n",
    "\n",
    "axes.set_xlabel('Predicted')\n",
    "axes.set_ylabel('Actual')\n",
    "axes.xaxis.set_ticklabels(['negative', 'positive'])\n",
    "axes.yaxis.set_ticklabels(['negative', 'positive'])\n",
    "fig.suptitle('Confusion matrix')\n",
    "\n",
    "plt.show()"
   ]
  },
  {
   "cell_type": "markdown",
   "id": "32132684-af47-4242-9f29-583f11e3a4a6",
   "metadata": {},
   "source": [
    "The confusion matrix shows that all predictions of test data labels made by the model are correct. This is an indication that the model does not overfitting and generalize well, at least on the test data. Since the evaluation metrics are derivatives of the confusion matrix, it can be concluded that they will have a perfect score. They are calculated and compared with the mean evaluation metric scores achieved during the training of the model."
   ]
  },
  {
   "cell_type": "code",
   "execution_count": 77,
   "id": "eba4d8c8-de63-427e-a288-ae9cf12128f7",
   "metadata": {},
   "outputs": [],
   "source": [
    "compared_metrics = {\n",
    "    'metric': ['recall', 'accuracy', 'roc_auc'],\n",
    "    'cross_validation': [logr_trials_df['mean_recall'].mean(), logr_trials_df['mean_accuracy'].mean(), logr_trials_df['mean_roc_auc'].mean()],\n",
    "    'test_set': [recall_score(mushroom_target_test, logr_predicted, pos_label = 'p'), accuracy_score(mushroom_target_test, logr_predicted), roc_auc_score(mushroom_target_test, logr_prob[:, 1])]\n",
    "}\n",
    "\n",
    "comapared_metrics_df = pd.DataFrame(compared_metrics)\n",
    "comapared_metrics_df = comapared_metrics_df.melt(id_vars = 'metric', var_name = 'evaluation', value_name = 'score')"
   ]
  },
  {
   "cell_type": "code",
   "execution_count": 76,
   "id": "4d3e061f-95fb-462d-baae-7bbb426a2a3c",
   "metadata": {},
   "outputs": [
    {
     "data": {
      "image/png": "[encoded data removed]",
      "text/plain": [
       "<Figure size 800x600 with 1 Axes>"
      ]
     },
     "metadata": {},
     "output_type": "display_data"
    }
   ],
   "source": [
    "plt.figure(figsize = (8, 6))\n",
    "sns.barplot(data = comapared_metrics_df, x = 'metric', y = 'score', hue = 'evaluation')\n",
    "\n",
    "plt.title('Comparison of cross - validation and test set performance', fontsize = 14)\n",
    "plt.ylim(0.9, 1.03)\n",
    "plt.ylabel('score', fontsize = 12)\n",
    "plt.xlabel('metric', fontsize = 12)\n",
    "plt.grid(axis= 'y', linestyle = '--', alpha = 0.7)\n",
    "\n",
    "plt.show()"
   ]
  },
  {
   "cell_type": "markdown",
   "id": "ac987735-cdbd-49c5-ad90-00bbf83802e1",
   "metadata": {},
   "source": [
    "As espexted from the observation of the confusion matrix, all three evaluation metrics have a socre of 1.0. They are equal compared to the cross - validation metrics of the selected model, which also are perfect. The plot above shows that the differences with the mean evaluation scores, achieved during the training of the model, are very small, close to the standard deviations observed in the tuning trials.\n",
    "\n",
    "These results confirm that the high scores achieved during cross - validation are not a result of overfitting. The selected model performs equally on train and unseen data. It can be concluded that the test data is an good representation of the train data."
   ]
  },
  {
   "cell_type": "code",
   "execution_count": 40,
   "id": "36145f37-07c6-4d33-948e-404c825427a2",
   "metadata": {},
   "outputs": [
    {
     "data": {
      "text/plain": [
       "label\n",
       "e    1052\n",
       "p     979\n",
       "Name: count, dtype: int64"
      ]
     },
     "execution_count": 40,
     "metadata": {},
     "output_type": "execute_result"
    }
   ],
   "source": [
    "mushroom_target_test.value_counts()"
   ]
  },
  {
   "cell_type": "code",
   "execution_count": 73,
   "id": "b452762e-b69f-4635-9918-ff7aa9e90783",
   "metadata": {},
   "outputs": [
    {
     "data": {
      "image/png": "[encoded data removed]",
      "text/plain": [
       "<Figure size 800x600 with 2 Axes>"
      ]
     },
     "metadata": {},
     "output_type": "display_data"
    }
   ],
   "source": [
    "logr_false_pos_rate, logr_true_pos_rate, thresholds = roc_curve(mushroom_target_test, logr_prob[:, 1], pos_label = 'p')\n",
    "\n",
    "logr_test_roc_auc = roc_auc_score(mushroom_target_test, logr_prob[:, 1])\n",
    "\n",
    "plt.figure(figsize = (8, 6))\n",
    "plt.plot(logr_false_pos_rate, logr_true_pos_rate, label = f'ROC curve (AUC = {logr_test_roc_auc: .2f})', color = 'blue')\n",
    "plt.plot([0, 1], [0, 1], linestyle = '--', color = 'gray', label = 'Random guess')\n",
    "plt.scatter(logr_false_pos_rate, logr_true_pos_rate, c = thresholds, cmap = 'YlGnBu', label = 'thresholds', edgecolors = 'k')\n",
    "plt.colorbar(label = 'Threshold')\n",
    "plt.xlabel('False Positive Rate')\n",
    "plt.ylabel('True Positive Rate')\n",
    "plt.title('Receiver Operating Characteristic (ROC) curve')\n",
    "plt.legend(loc='lower right')\n",
    "plt.grid()\n",
    "plt.show()"
   ]
  },
  {
   "cell_type": "markdown",
   "id": "45c9cbb9-6099-4504-8225-cb72f965dc64",
   "metadata": {},
   "source": [
    "Receiver Operating Characteristic curve represents the performance of the model at different classification thresholds. It plots the possible True Positive rates against the False Positive ones. ROC curve AUC score summarizes the mode's performance across all possible classification thresholds and is equal to the area under the ROC curve. Since the model makes perfec predictions on the test data, the AUC is 1 and the performance remains constantly perfect on all thresholds."
   ]
  },
  {
   "cell_type": "markdown",
   "id": "67c5132e-842d-4834-bbea-fc7223497acf",
   "metadata": {},
   "source": [
    "In order to evaluate the model's performance in different important and real world cases, the test data is filtered and splitted below on several subsets."
   ]
  },
  {
   "cell_type": "markdown",
   "id": "2c396835-5ba0-4be9-a37c-237d9c2095c1",
   "metadata": {},
   "source": [
    "Below the model is tested on subset of the test data, where the predictted probabilities of the positive class are very high. This is a subset with only poisonous observations. The perfect results of this evaluation confirms that the model is highly confident in its classifications."
   ]
  },
  {
   "cell_type": "code",
   "execution_count": 97,
   "id": "43d17ca8-ec55-466a-9be2-70dd9d40f0a0",
   "metadata": {},
   "outputs": [],
   "source": [
    "high_confidence_attr_test = mushroom_attr_test[(logr_prob[:, 1] > 0.95)]\n",
    "high_confidence_target_test = mushroom_target_test[(logr_prob[:, 1] > 0.95)]\n",
    "logr_high_conf_pred = logr_pipe.predict(high_confidence_attr_test)"
   ]
  },
  {
   "cell_type": "code",
   "execution_count": 98,
   "id": "7a31d818-d417-4dd7-ba95-ff0ef5adbcc5",
   "metadata": {},
   "outputs": [
    {
     "data": {
      "text/plain": [
       "1.0"
      ]
     },
     "execution_count": 98,
     "metadata": {},
     "output_type": "execute_result"
    }
   ],
   "source": [
    "recall_score(high_confidence_target_test, logr_high_conf_pred, pos_label = 'p')"
   ]
  },
  {
   "cell_type": "markdown",
   "id": "d55bfb3a-ca68-4e55-bda8-3d1b1ae75f4e",
   "metadata": {},
   "source": [
    "The test data is filtered to a subset where the predicted probabilities are relatively close to the threshold of 0.5. It is noticeable that there are only two observations where the model shows even a small uncertainty."
   ]
  },
  {
   "cell_type": "code",
   "execution_count": 44,
   "id": "e4fe1f7c-e384-4acd-bcd4-6bc869f8362d",
   "metadata": {},
   "outputs": [
    {
     "data": {
      "text/html": [
       "<div>\n",
       "<style scoped>\n",
       "    .dataframe tbody tr th:only-of-type {\n",
       "        vertical-align: middle;\n",
       "    }\n",
       "\n",
       "    .dataframe tbody tr th {\n",
       "        vertical-align: top;\n",
       "    }\n",
       "\n",
       "    .dataframe thead th {\n",
       "        text-align: right;\n",
       "    }\n",
       "</style>\n",
       "<table border=\"1\" class=\"dataframe\">\n",
       "  <thead>\n",
       "    <tr style=\"text-align: right;\">\n",
       "      <th></th>\n",
       "      <th>cap_shape</th>\n",
       "      <th>cap_surface</th>\n",
       "      <th>cap_color</th>\n",
       "      <th>bruises</th>\n",
       "      <th>odor</th>\n",
       "      <th>gill_attachment</th>\n",
       "      <th>gill_spacing</th>\n",
       "      <th>gill_size</th>\n",
       "      <th>gill_color</th>\n",
       "      <th>stalk_shape</th>\n",
       "      <th>stalk_root</th>\n",
       "      <th>stalk_surface_above_ring</th>\n",
       "      <th>stalk_surface_below_ring</th>\n",
       "      <th>stalk_color_above_ring</th>\n",
       "      <th>stalk_color_below_ring</th>\n",
       "      <th>veil_color</th>\n",
       "      <th>ring_number</th>\n",
       "      <th>ring_type</th>\n",
       "      <th>spore_print_color</th>\n",
       "      <th>population</th>\n",
       "      <th>habitat</th>\n",
       "    </tr>\n",
       "  </thead>\n",
       "  <tbody>\n",
       "    <tr>\n",
       "      <th>4364</th>\n",
       "      <td>b</td>\n",
       "      <td>y</td>\n",
       "      <td>w</td>\n",
       "      <td>t</td>\n",
       "      <td>n</td>\n",
       "      <td>f</td>\n",
       "      <td>w</td>\n",
       "      <td>n</td>\n",
       "      <td>w</td>\n",
       "      <td>e</td>\n",
       "      <td>b</td>\n",
       "      <td>s</td>\n",
       "      <td>s</td>\n",
       "      <td>w</td>\n",
       "      <td>w</td>\n",
       "      <td>w</td>\n",
       "      <td>o</td>\n",
       "      <td>p</td>\n",
       "      <td>w</td>\n",
       "      <td>c</td>\n",
       "      <td>l</td>\n",
       "    </tr>\n",
       "    <tr>\n",
       "      <th>5107</th>\n",
       "      <td>f</td>\n",
       "      <td>g</td>\n",
       "      <td>w</td>\n",
       "      <td>t</td>\n",
       "      <td>n</td>\n",
       "      <td>f</td>\n",
       "      <td>w</td>\n",
       "      <td>n</td>\n",
       "      <td>w</td>\n",
       "      <td>e</td>\n",
       "      <td>b</td>\n",
       "      <td>s</td>\n",
       "      <td>s</td>\n",
       "      <td>w</td>\n",
       "      <td>w</td>\n",
       "      <td>w</td>\n",
       "      <td>o</td>\n",
       "      <td>p</td>\n",
       "      <td>w</td>\n",
       "      <td>c</td>\n",
       "      <td>l</td>\n",
       "    </tr>\n",
       "  </tbody>\n",
       "</table>\n",
       "</div>"
      ],
      "text/plain": [
       "     cap_shape cap_surface cap_color bruises odor gill_attachment  \\\n",
       "4364         b           y         w       t    n               f   \n",
       "5107         f           g         w       t    n               f   \n",
       "\n",
       "     gill_spacing gill_size gill_color stalk_shape stalk_root  \\\n",
       "4364            w         n          w           e          b   \n",
       "5107            w         n          w           e          b   \n",
       "\n",
       "     stalk_surface_above_ring stalk_surface_below_ring stalk_color_above_ring  \\\n",
       "4364                        s                        s                      w   \n",
       "5107                        s                        s                      w   \n",
       "\n",
       "     stalk_color_below_ring veil_color ring_number ring_type  \\\n",
       "4364                      w          w           o         p   \n",
       "5107                      w          w           o         p   \n",
       "\n",
       "     spore_print_color population habitat  \n",
       "4364                 w          c       l  \n",
       "5107                 w          c       l  "
      ]
     },
     "execution_count": 44,
     "metadata": {},
     "output_type": "execute_result"
    }
   ],
   "source": [
    "low_confidence_reccords = mushroom_attr_test[(logr_prob[:, 1] > 0.3) & (logr_prob[:, 1] < 0.7)]\n",
    "low_confidence_reccords"
   ]
  },
  {
   "cell_type": "markdown",
   "id": "65405358-90a7-441c-af57-4319389eef34",
   "metadata": {},
   "source": [
    "In the real world, if the model is used in cultivation industry to ensure the abscence of accidentally precence of toxic mushrooms, normally the samples will contain zero or very small percentage positive probes. To check the performance in such situations, the test data is splitted on a subset of only edible observations and another, containing only one percent positive samples. "
   ]
  },
  {
   "cell_type": "code",
   "execution_count": 45,
   "id": "e37ab5a2-d5f9-4856-8c41-f9cf4cf7e1b5",
   "metadata": {},
   "outputs": [],
   "source": [
    "imbalanced_mushroom_test = pd.concat([mushroom_attr_test, mushroom_target_test], axis = 1).sort_values(by = 'label').head(1070)"
   ]
  },
  {
   "cell_type": "code",
   "execution_count": 46,
   "id": "3786d815-91de-4562-897e-c6a9283f443b",
   "metadata": {},
   "outputs": [],
   "source": [
    "imbalanced_mushroom_test = imbalanced_mushroom_test.sample(frac = 1, random_state = RANDOM_SEED)"
   ]
  },
  {
   "cell_type": "code",
   "execution_count": 47,
   "id": "452a1830-ee33-4451-a2c4-c3a7631a419a",
   "metadata": {},
   "outputs": [
    {
     "data": {
      "text/plain": [
       "label\n",
       "e    98.317757\n",
       "p     1.682243\n",
       "Name: proportion, dtype: float64"
      ]
     },
     "execution_count": 47,
     "metadata": {},
     "output_type": "execute_result"
    }
   ],
   "source": [
    "imbalanced_mushroom_test['label'].value_counts(normalize = True) * 100"
   ]
  },
  {
   "cell_type": "code",
   "execution_count": 48,
   "id": "da65c5ba-1673-4785-bf77-03d160ddbd45",
   "metadata": {},
   "outputs": [],
   "source": [
    "imbalanced_mushroom_attr = imbalanced_mushroom_test.drop(columns = ['label'])"
   ]
  },
  {
   "cell_type": "code",
   "execution_count": 49,
   "id": "fadbc67a-fa14-40a3-bae8-4a5ec7ba11b9",
   "metadata": {},
   "outputs": [],
   "source": [
    "imbalanced_mushroom_target = imbalanced_mushroom_test['label']"
   ]
  },
  {
   "cell_type": "code",
   "execution_count": 50,
   "id": "687fb5e0-5ee2-476e-a7a0-253c611c187c",
   "metadata": {},
   "outputs": [],
   "source": [
    "logr_imbalanced_prediction = logr_pipe.predict(imbalanced_mushroom_attr)"
   ]
  },
  {
   "cell_type": "code",
   "execution_count": 95,
   "id": "ce59aad0-89a9-4731-b1b5-a91f61bfa896",
   "metadata": {},
   "outputs": [
    {
     "data": {
      "image/png": "[encoded data removed]",
      "text/plain": [
       "<Figure size 700x400 with 2 Axes>"
      ]
     },
     "metadata": {},
     "output_type": "display_data"
    }
   ],
   "source": [
    "fig, axes = plt.subplots(1, 1, figsize = (7, 4))\n",
    "\n",
    "sns.heatmap(confusion_matrix(imbalanced_mushroom_target, logr_imbalanced_prediction), annot = True, fmt = 'd', cmap = 'YlGnBu')\n",
    "\n",
    "axes.set_xlabel('Predicted')\n",
    "axes.set_ylabel('Actual')\n",
    "axes.xaxis.set_ticklabels(['negative', 'positive'])\n",
    "axes.yaxis.set_ticklabels(['negative', 'positive'])\n",
    "fig.suptitle('Confusion matrix - 1 % positive subset')\n",
    "\n",
    "plt.show()"
   ]
  },
  {
   "cell_type": "code",
   "execution_count": 52,
   "id": "975fcab9-0d36-4912-b845-1db1e8435e09",
   "metadata": {},
   "outputs": [],
   "source": [
    "zero_positive_attr = mushroom_attr_test[mushroom_target_test == 'e']\n",
    "zero_positive_target = mushroom_target_test[mushroom_target_test == 'e']"
   ]
  },
  {
   "cell_type": "code",
   "execution_count": 53,
   "id": "d0315963-e978-4a96-8122-ff0d08c7c744",
   "metadata": {},
   "outputs": [
    {
     "data": {
      "text/plain": [
       "True"
      ]
     },
     "execution_count": 53,
     "metadata": {},
     "output_type": "execute_result"
    }
   ],
   "source": [
    "len(zero_positive_attr) == len(zero_positive_target)"
   ]
  },
  {
   "cell_type": "code",
   "execution_count": 54,
   "id": "36206eeb-b41b-43bf-ad22-ffe76b58a4b2",
   "metadata": {},
   "outputs": [],
   "source": [
    "logr_zero_positive_prediction = logr_pipe.predict(zero_positive_attr)"
   ]
  },
  {
   "cell_type": "code",
   "execution_count": 94,
   "id": "dcdb54c5-9dcf-4950-9092-770fce17a037",
   "metadata": {},
   "outputs": [
    {
     "data": {
      "text/plain": [
       "1.0"
      ]
     },
     "execution_count": 94,
     "metadata": {},
     "output_type": "execute_result"
    }
   ],
   "source": [
    "accuracy_score(zero_positive_target, logr_zero_positive_prediction)"
   ]
  },
  {
   "cell_type": "markdown",
   "id": "38607ca3-3b8e-4d41-a918-c8a70e10aa1c",
   "metadata": {},
   "source": [
    "The model performs without mistakes on the subset containing only observations of edible class as well on the subset with only several positive class reccords. This way is tested how well it generalize on possible real world scenarios."
   ]
  },
  {
   "cell_type": "code",
   "execution_count": null,
   "id": "0b0abf62-a810-4856-ab41-1427a3d487d2",
   "metadata": {},
   "outputs": [],
   "source": []
  }
 ],
 "metadata": {
  "kernelspec": {
   "display_name": "Python 3 (ipykernel)",
   "language": "python",
   "name": "python3"
  },
  "language_info": {
   "codemirror_mode": {
    "name": "ipython",
    "version": 3
   },
   "file_extension": ".py",
   "mimetype": "text/x-python",
   "name": "python",
   "nbconvert_exporter": "python",
   "pygments_lexer": "ipython3",
   "version": "3.11.9"
  }
 },
 "nbformat": 4,
 "nbformat_minor": 5
}
